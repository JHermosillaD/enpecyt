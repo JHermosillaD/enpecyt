{
 "metadata": {
  "language_info": {
   "codemirror_mode": {
    "name": "ipython",
    "version": 3
   },
   "file_extension": ".py",
   "mimetype": "text/x-python",
   "name": "python",
   "nbconvert_exporter": "python",
   "pygments_lexer": "ipython3",
   "version": "3.8.1-final"
  },
  "orig_nbformat": 2,
  "kernelspec": {
   "name": "python_defaultSpec_1600375074561",
   "display_name": "Python 3.8.1 32-bit"
  }
 },
 "nbformat": 4,
 "nbformat_minor": 2,
 "cells": [
  {
   "cell_type": "code",
   "execution_count": 11,
   "metadata": {},
   "outputs": [],
   "source": [
    "import pandas as pd\n",
    "import numpy as np"
   ]
  },
  {
   "cell_type": "code",
   "execution_count": 3,
   "metadata": {},
   "outputs": [],
   "source": [
    "#Pandas permite cargar nuestras bases de datos de forma muy sencilla\n",
    "datos = pd.read_csv(\"./datos/conjunto_de_datos/tr_cbasico1.csv\")"
   ]
  },
  {
   "cell_type": "code",
   "execution_count": null,
   "metadata": {},
   "outputs": [],
   "source": [
    "#Pandas utiliza una estructura de datos llamada un DataFrame. Es como una tabla dinámica que nos permite hacer consultas de forma muy rápida"
   ]
  },
  {
   "cell_type": "code",
   "execution_count": 6,
   "metadata": {},
   "outputs": [
    {
     "output_type": "execute_result",
     "data": {
      "text/plain": "     CD_A   PER  ENT    CON  V_SEL  N_HOG  N_REN  S3P1  S3P1_2  S3P2  ...  \\\n0      ww  1117    1  40018      3      1      1   3.0     3.0   NaN  ...   \n1      14  1117    1  40018      4      1      1   2.0     6.0   NaN  ...   \n2      14  1117    1  40018      2      1      1   2.0     6.0   NaN  ...   \n3      14  1117    1  40018      1      1      3   4.0     3.0   NaN  ...   \n4      14  1117    1  40018      5      1      2   3.0     3.0   NaN  ...   \n...   ...   ...  ...    ...    ...    ...    ...   ...     ...   ...  ...   \n2848   32  1117   32  40345      2      1      2   6.0     3.0  4334  ...   \n2849   32  1117   32  40390      2      1      2   7.0     5.0  5713  ...   \n2850   32  1117   32  40390      4      1      2   3.0     3.0   NaN  ...   \n2851   32  1117   32  40390      5      1      1   6.0     1.0  2511  ...   \n2852   32  1117   32  40390      3      1      1   4.0     3.0   NaN  ...   \n\n     S4P17_6  S4P17_7  S4P17_8  S4P17_9  S4P17_10  S4P17_11  S4P17_12  \\\n0          2        3        3        2         2         2         2   \n1          3        3        3        3         3         3         2   \n2          3        3        3        3         3         3         2   \n3          2        2        3        3         3         2         2   \n4          3        3        3        3         3         3         1   \n...      ...      ...      ...      ...       ...       ...       ...   \n2848       3        3        3        2         1         1         3   \n2849       1        1        1        2         3         1         1   \n2850       1        2        1        2         2         2         1   \n2851       3        2        3        3         3         2         2   \n2852       1        3        3        3         1         1         1   \n\n      S4P17_13  S4P17_14    FAC  \n0            1         2   5072  \n1            3         3   5072  \n2            3         3   7608  \n3            3         3  10144  \n4            3         3   5072  \n...        ...       ...    ...  \n2848         1         1   3888  \n2849         2         3   1602  \n2850         2         2   2403  \n2851         2         2   2403  \n2852         1         1   2403  \n\n[2853 rows x 236 columns]",
      "text/html": "<div>\n<style scoped>\n    .dataframe tbody tr th:only-of-type {\n        vertical-align: middle;\n    }\n\n    .dataframe tbody tr th {\n        vertical-align: top;\n    }\n\n    .dataframe thead th {\n        text-align: right;\n    }\n</style>\n<table border=\"1\" class=\"dataframe\">\n  <thead>\n    <tr style=\"text-align: right;\">\n      <th></th>\n      <th>CD_A</th>\n      <th>PER</th>\n      <th>ENT</th>\n      <th>CON</th>\n      <th>V_SEL</th>\n      <th>N_HOG</th>\n      <th>N_REN</th>\n      <th>S3P1</th>\n      <th>S3P1_2</th>\n      <th>S3P2</th>\n      <th>...</th>\n      <th>S4P17_6</th>\n      <th>S4P17_7</th>\n      <th>S4P17_8</th>\n      <th>S4P17_9</th>\n      <th>S4P17_10</th>\n      <th>S4P17_11</th>\n      <th>S4P17_12</th>\n      <th>S4P17_13</th>\n      <th>S4P17_14</th>\n      <th>FAC</th>\n    </tr>\n  </thead>\n  <tbody>\n    <tr>\n      <th>0</th>\n      <td>ww</td>\n      <td>1117</td>\n      <td>1</td>\n      <td>40018</td>\n      <td>3</td>\n      <td>1</td>\n      <td>1</td>\n      <td>3.0</td>\n      <td>3.0</td>\n      <td>NaN</td>\n      <td>...</td>\n      <td>2</td>\n      <td>3</td>\n      <td>3</td>\n      <td>2</td>\n      <td>2</td>\n      <td>2</td>\n      <td>2</td>\n      <td>1</td>\n      <td>2</td>\n      <td>5072</td>\n    </tr>\n    <tr>\n      <th>1</th>\n      <td>14</td>\n      <td>1117</td>\n      <td>1</td>\n      <td>40018</td>\n      <td>4</td>\n      <td>1</td>\n      <td>1</td>\n      <td>2.0</td>\n      <td>6.0</td>\n      <td>NaN</td>\n      <td>...</td>\n      <td>3</td>\n      <td>3</td>\n      <td>3</td>\n      <td>3</td>\n      <td>3</td>\n      <td>3</td>\n      <td>2</td>\n      <td>3</td>\n      <td>3</td>\n      <td>5072</td>\n    </tr>\n    <tr>\n      <th>2</th>\n      <td>14</td>\n      <td>1117</td>\n      <td>1</td>\n      <td>40018</td>\n      <td>2</td>\n      <td>1</td>\n      <td>1</td>\n      <td>2.0</td>\n      <td>6.0</td>\n      <td>NaN</td>\n      <td>...</td>\n      <td>3</td>\n      <td>3</td>\n      <td>3</td>\n      <td>3</td>\n      <td>3</td>\n      <td>3</td>\n      <td>2</td>\n      <td>3</td>\n      <td>3</td>\n      <td>7608</td>\n    </tr>\n    <tr>\n      <th>3</th>\n      <td>14</td>\n      <td>1117</td>\n      <td>1</td>\n      <td>40018</td>\n      <td>1</td>\n      <td>1</td>\n      <td>3</td>\n      <td>4.0</td>\n      <td>3.0</td>\n      <td>NaN</td>\n      <td>...</td>\n      <td>2</td>\n      <td>2</td>\n      <td>3</td>\n      <td>3</td>\n      <td>3</td>\n      <td>2</td>\n      <td>2</td>\n      <td>3</td>\n      <td>3</td>\n      <td>10144</td>\n    </tr>\n    <tr>\n      <th>4</th>\n      <td>14</td>\n      <td>1117</td>\n      <td>1</td>\n      <td>40018</td>\n      <td>5</td>\n      <td>1</td>\n      <td>2</td>\n      <td>3.0</td>\n      <td>3.0</td>\n      <td>NaN</td>\n      <td>...</td>\n      <td>3</td>\n      <td>3</td>\n      <td>3</td>\n      <td>3</td>\n      <td>3</td>\n      <td>3</td>\n      <td>1</td>\n      <td>3</td>\n      <td>3</td>\n      <td>5072</td>\n    </tr>\n    <tr>\n      <th>...</th>\n      <td>...</td>\n      <td>...</td>\n      <td>...</td>\n      <td>...</td>\n      <td>...</td>\n      <td>...</td>\n      <td>...</td>\n      <td>...</td>\n      <td>...</td>\n      <td>...</td>\n      <td>...</td>\n      <td>...</td>\n      <td>...</td>\n      <td>...</td>\n      <td>...</td>\n      <td>...</td>\n      <td>...</td>\n      <td>...</td>\n      <td>...</td>\n      <td>...</td>\n      <td>...</td>\n    </tr>\n    <tr>\n      <th>2848</th>\n      <td>32</td>\n      <td>1117</td>\n      <td>32</td>\n      <td>40345</td>\n      <td>2</td>\n      <td>1</td>\n      <td>2</td>\n      <td>6.0</td>\n      <td>3.0</td>\n      <td>4334</td>\n      <td>...</td>\n      <td>3</td>\n      <td>3</td>\n      <td>3</td>\n      <td>2</td>\n      <td>1</td>\n      <td>1</td>\n      <td>3</td>\n      <td>1</td>\n      <td>1</td>\n      <td>3888</td>\n    </tr>\n    <tr>\n      <th>2849</th>\n      <td>32</td>\n      <td>1117</td>\n      <td>32</td>\n      <td>40390</td>\n      <td>2</td>\n      <td>1</td>\n      <td>2</td>\n      <td>7.0</td>\n      <td>5.0</td>\n      <td>5713</td>\n      <td>...</td>\n      <td>1</td>\n      <td>1</td>\n      <td>1</td>\n      <td>2</td>\n      <td>3</td>\n      <td>1</td>\n      <td>1</td>\n      <td>2</td>\n      <td>3</td>\n      <td>1602</td>\n    </tr>\n    <tr>\n      <th>2850</th>\n      <td>32</td>\n      <td>1117</td>\n      <td>32</td>\n      <td>40390</td>\n      <td>4</td>\n      <td>1</td>\n      <td>2</td>\n      <td>3.0</td>\n      <td>3.0</td>\n      <td>NaN</td>\n      <td>...</td>\n      <td>1</td>\n      <td>2</td>\n      <td>1</td>\n      <td>2</td>\n      <td>2</td>\n      <td>2</td>\n      <td>1</td>\n      <td>2</td>\n      <td>2</td>\n      <td>2403</td>\n    </tr>\n    <tr>\n      <th>2851</th>\n      <td>32</td>\n      <td>1117</td>\n      <td>32</td>\n      <td>40390</td>\n      <td>5</td>\n      <td>1</td>\n      <td>1</td>\n      <td>6.0</td>\n      <td>1.0</td>\n      <td>2511</td>\n      <td>...</td>\n      <td>3</td>\n      <td>2</td>\n      <td>3</td>\n      <td>3</td>\n      <td>3</td>\n      <td>2</td>\n      <td>2</td>\n      <td>2</td>\n      <td>2</td>\n      <td>2403</td>\n    </tr>\n    <tr>\n      <th>2852</th>\n      <td>32</td>\n      <td>1117</td>\n      <td>32</td>\n      <td>40390</td>\n      <td>3</td>\n      <td>1</td>\n      <td>1</td>\n      <td>4.0</td>\n      <td>3.0</td>\n      <td>NaN</td>\n      <td>...</td>\n      <td>1</td>\n      <td>3</td>\n      <td>3</td>\n      <td>3</td>\n      <td>1</td>\n      <td>1</td>\n      <td>1</td>\n      <td>1</td>\n      <td>1</td>\n      <td>2403</td>\n    </tr>\n  </tbody>\n</table>\n<p>2853 rows × 236 columns</p>\n</div>"
     },
     "metadata": {},
     "execution_count": 6
    }
   ],
   "source": [
    "datos"
   ]
  },
  {
   "cell_type": "code",
   "execution_count": null,
   "metadata": {},
   "outputs": [],
   "source": [
    "#Pandas permite usar la notación usual de python para obtener \"slides\" de estructuras de datos"
   ]
  },
  {
   "cell_type": "code",
   "execution_count": 7,
   "metadata": {},
   "outputs": [
    {
     "output_type": "execute_result",
     "data": {
      "text/plain": "  CD_A   PER  ENT    CON  V_SEL  N_HOG  N_REN  S3P1  S3P1_2 S3P2  ... S4P17_6  \\\n0   ww  1117    1  40018      3      1      1   3.0     3.0  NaN  ...       2   \n1   14  1117    1  40018      4      1      1   2.0     6.0  NaN  ...       3   \n2   14  1117    1  40018      2      1      1   2.0     6.0  NaN  ...       3   \n\n   S4P17_7  S4P17_8  S4P17_9  S4P17_10  S4P17_11  S4P17_12  S4P17_13  \\\n0        3        3        2         2         2         2         1   \n1        3        3        3         3         3         2         3   \n2        3        3        3         3         3         2         3   \n\n   S4P17_14   FAC  \n0         2  5072  \n1         3  5072  \n2         3  7608  \n\n[3 rows x 236 columns]",
      "text/html": "<div>\n<style scoped>\n    .dataframe tbody tr th:only-of-type {\n        vertical-align: middle;\n    }\n\n    .dataframe tbody tr th {\n        vertical-align: top;\n    }\n\n    .dataframe thead th {\n        text-align: right;\n    }\n</style>\n<table border=\"1\" class=\"dataframe\">\n  <thead>\n    <tr style=\"text-align: right;\">\n      <th></th>\n      <th>CD_A</th>\n      <th>PER</th>\n      <th>ENT</th>\n      <th>CON</th>\n      <th>V_SEL</th>\n      <th>N_HOG</th>\n      <th>N_REN</th>\n      <th>S3P1</th>\n      <th>S3P1_2</th>\n      <th>S3P2</th>\n      <th>...</th>\n      <th>S4P17_6</th>\n      <th>S4P17_7</th>\n      <th>S4P17_8</th>\n      <th>S4P17_9</th>\n      <th>S4P17_10</th>\n      <th>S4P17_11</th>\n      <th>S4P17_12</th>\n      <th>S4P17_13</th>\n      <th>S4P17_14</th>\n      <th>FAC</th>\n    </tr>\n  </thead>\n  <tbody>\n    <tr>\n      <th>0</th>\n      <td>ww</td>\n      <td>1117</td>\n      <td>1</td>\n      <td>40018</td>\n      <td>3</td>\n      <td>1</td>\n      <td>1</td>\n      <td>3.0</td>\n      <td>3.0</td>\n      <td>NaN</td>\n      <td>...</td>\n      <td>2</td>\n      <td>3</td>\n      <td>3</td>\n      <td>2</td>\n      <td>2</td>\n      <td>2</td>\n      <td>2</td>\n      <td>1</td>\n      <td>2</td>\n      <td>5072</td>\n    </tr>\n    <tr>\n      <th>1</th>\n      <td>14</td>\n      <td>1117</td>\n      <td>1</td>\n      <td>40018</td>\n      <td>4</td>\n      <td>1</td>\n      <td>1</td>\n      <td>2.0</td>\n      <td>6.0</td>\n      <td>NaN</td>\n      <td>...</td>\n      <td>3</td>\n      <td>3</td>\n      <td>3</td>\n      <td>3</td>\n      <td>3</td>\n      <td>3</td>\n      <td>2</td>\n      <td>3</td>\n      <td>3</td>\n      <td>5072</td>\n    </tr>\n    <tr>\n      <th>2</th>\n      <td>14</td>\n      <td>1117</td>\n      <td>1</td>\n      <td>40018</td>\n      <td>2</td>\n      <td>1</td>\n      <td>1</td>\n      <td>2.0</td>\n      <td>6.0</td>\n      <td>NaN</td>\n      <td>...</td>\n      <td>3</td>\n      <td>3</td>\n      <td>3</td>\n      <td>3</td>\n      <td>3</td>\n      <td>3</td>\n      <td>2</td>\n      <td>3</td>\n      <td>3</td>\n      <td>7608</td>\n    </tr>\n  </tbody>\n</table>\n<p>3 rows × 236 columns</p>\n</div>"
     },
     "metadata": {},
     "execution_count": 7
    }
   ],
   "source": [
    "datos[:3]"
   ]
  },
  {
   "cell_type": "code",
   "execution_count": 8,
   "metadata": {},
   "outputs": [],
   "source": [
    "#Los DataFrames están identificados por un índice y por columnas"
   ]
  },
  {
   "cell_type": "code",
   "execution_count": 9,
   "metadata": {},
   "outputs": [
    {
     "output_type": "execute_result",
     "data": {
      "text/plain": "RangeIndex(start=0, stop=2853, step=1)"
     },
     "metadata": {},
     "execution_count": 9
    }
   ],
   "source": [
    "datos.index"
   ]
  },
  {
   "cell_type": "code",
   "execution_count": 10,
   "metadata": {},
   "outputs": [
    {
     "output_type": "execute_result",
     "data": {
      "text/plain": "Index(['CD_A', 'PER', 'ENT', 'CON', 'V_SEL', 'N_HOG', 'N_REN', 'S3P1',\n       'S3P1_2', 'S3P2',\n       ...\n       'S4P17_6', 'S4P17_7', 'S4P17_8', 'S4P17_9', 'S4P17_10', 'S4P17_11',\n       'S4P17_12', 'S4P17_13', 'S4P17_14', 'FAC'],\n      dtype='object', length=236)"
     },
     "metadata": {},
     "execution_count": 10
    }
   ],
   "source": [
    "datos.columns"
   ]
  },
  {
   "cell_type": "code",
   "execution_count": null,
   "metadata": {},
   "outputs": [],
   "source": [
    "#Para ver todas las columnas a veces es necesario convertir la lista en un array de numpy"
   ]
  },
  {
   "cell_type": "code",
   "execution_count": 49,
   "metadata": {},
   "outputs": [
    {
     "output_type": "execute_result",
     "data": {
      "text/plain": "array(['CD_A', 'PER', 'ENT', 'CON', 'V_SEL', 'N_HOG', 'N_REN', 'S3P1',\n       'S3P1_2', 'S3P2', 'S3P2_ES', 'S3P3', 'S3P4_1', 'S3P4_2', 'S3P4_3',\n       'S3P4_4', 'S3P4_5', 'S3P4_6', 'S3P4_7', 'S3P5', 'S3P5_ES', 'S3P6',\n       'S3P7', 'S3P7_1_1', 'S3P7_1_2', 'S3P7_1_3', 'S3P7_1_4', 'S3P7_1_5',\n       'S3P7_2_1', 'S3P7_2_2', 'S3P7_2_3', 'S3P7_2_4', 'S3P7_2_5', 'S3P8',\n       'S3P9', 'S3P10', 'S3P11_ES', 'S3P12_C', 'S3P12_ES', 'S3P13_ES',\n       'S3P14_C', 'S3P14_ES', 'S3P15', 'S4P1_1', 'S4P1_2', 'S4P1_3',\n       'S4P1_4', 'S4P1_5', 'S4P1_6', 'S4P1_7', 'S4P1_8', 'S4P1_1_1A',\n       'S4P1_1_2A', 'S4P1_1_3A', 'S4P1_1_4A', 'S4P1_1_5A', 'S4P1_1_6A',\n       'S4P1_1_7A', 'S4P1_1_8A', 'S4P1_1_ESA', 'S4P1_1_1B', 'S4P1_1_2B',\n       'S4P1_1_3B', 'S4P1_1_4B', 'S4P1_1_5B', 'S4P1_1_6B', 'S4P1_1_7B',\n       'S4P1_1_8B', 'S4P1_1_ESB', 'S4P1_1_1C', 'S4P1_1_2C', 'S4P1_1_3C',\n       'S4P1_1_4C', 'S4P1_1_5C', 'S4P1_1_6C', 'S4P1_1_7C', 'S4P1_1_8C',\n       'S4P1_1_ESC', 'S4P1_2_1', 'S4P1_2_2', 'S4P1_2_3', 'S4P1_2_4',\n       'S4P1_2_5', 'S4P1_2_6', 'S4P1_2_7', 'S4P2_1', 'S4P2_2', 'S4P2_3',\n       'S4P2_4', 'S4P2_5', 'S4P2_6', 'S4P2_7', 'S4P2_8', 'S4P3_1',\n       'S4P3_2', 'S4P3_3', 'S4P3_4', 'S4P3_5', 'S4P3_6', 'S4P3_7',\n       'S4P3_8', 'S4P3_9', 'S4P4', 'S4P4_1', 'S4P4_2', 'S4P4_3', 'S4P4_4',\n       'S4P5', 'S4P5_1', 'S4P5_2', 'S4P5_3', 'S4P5_4', 'S4P6', 'S4P6_1',\n       'S4P6_2', 'S4P6_3', 'S4P6_4', 'S4P6_5', 'S4P7', 'S4P7_1', 'S4P7_2',\n       'S4P7_3', 'S4P7_4', 'S4P7_5', 'S4P8', 'S4P8_1_1', 'S4P8_1_2',\n       'S4P8_1_ES', 'S4P9', 'S4P10', 'S4P10_1', 'S4P11_1', 'S4P11_2',\n       'S4P11_3', 'S4P11_4', 'S4P11_5', 'S4P11_6', 'S4P11_7', 'S4P11_8',\n       'S4P11_9', 'S4P11_10', 'S4P11_11', 'S4P11_12', 'S4P11_13',\n       'S4P11_14', 'S4P11_15', 'S4P11_16', 'S4P11_17', 'S4P11_ES',\n       'S4P12_1', 'S4P12_2', 'S4P12_3', 'S4P12_4', 'S4P12_5', 'S4P12_6',\n       'S4P12_7', 'S4P12_8', 'S4P12_9', 'S4P12_10', 'S4P12_1_1',\n       'S4P12_1_2', 'S4P12_1_3', 'S4P12_1_4', 'S4P12_1_5', 'S4P12_1_6',\n       'S4P12_1_7', 'S4P12_1_8', 'S4P12_1_9', 'S4P12_1_10', 'S4P12_1_ES',\n       'S4P12_2_1', 'S4P12_2_2', 'S4P12_2_3', 'S4P12_2_4', 'S4P12_2_5',\n       'S4P12_2_6', 'S4P12_2_7', 'S4P12_2_8', 'S4P12_2_ES', 'S4P13_1',\n       'S4P13_2', 'S4P13_3', 'S4P14_1', 'S4P14_2', 'S4P14_3', 'S4P14_4',\n       'S4P14_5', 'S4P14_6', 'S4P14_7', 'S4P14_8', 'S4P14_9', 'S4P14_10',\n       'S4P14_11', 'S4P14_12', 'S4P14_13', 'S4P14_14', 'S4P14_15',\n       'S4P14_16', 'S4P14_17', 'S4P15_1', 'S4P15_2', 'S4P15_3', 'S4P15_4',\n       'S4P15_5', 'S4P15_6', 'S4P15_7', 'S4P15_8', 'S4P15_9', 'S4P15_10',\n       'S4P15_11', 'S4P15_12', 'S4P15_13', 'S4P15_14', 'S4P15_15',\n       'S4P16_1', 'S4P16_2', 'S4P16_3', 'S4P16_4', 'S4P16_5', 'S4P16_6',\n       'S4P16_7', 'S4P17_1', 'S4P17_2', 'S4P17_3', 'S4P17_4', 'S4P17_5',\n       'S4P17_6', 'S4P17_7', 'S4P17_8', 'S4P17_9', 'S4P17_10', 'S4P17_11',\n       'S4P17_12', 'S4P17_13', 'S4P17_14', 'FAC'], dtype=object)"
     },
     "metadata": {},
     "execution_count": 49
    }
   ],
   "source": [
    "np.array(datos.columns)"
   ]
  },
  {
   "cell_type": "code",
   "execution_count": 55,
   "metadata": {},
   "outputs": [],
   "source": [
    "#Además Pandas tiene sus propios métodos para poder consultar filas/columnas en particular"
   ]
  },
  {
   "cell_type": "code",
   "execution_count": null,
   "metadata": {},
   "outputs": [],
   "source": [
    "#Una fila en específico"
   ]
  },
  {
   "cell_type": "code",
   "execution_count": 56,
   "metadata": {},
   "outputs": [
    {
     "output_type": "execute_result",
     "data": {
      "text/plain": "CD_A           14\nPER          1117\nENT             1\nCON         40018\nV_SEL           4\n            ...  \nS4P17_11        3\nS4P17_12        2\nS4P17_13        3\nS4P17_14        3\nFAC          5072\nName: 1, Length: 236, dtype: object"
     },
     "metadata": {},
     "execution_count": 56
    }
   ],
   "source": [
    "datos.loc[1]"
   ]
  },
  {
   "cell_type": "code",
   "execution_count": 57,
   "metadata": {},
   "outputs": [],
   "source": [
    "#Varias filas en específico"
   ]
  },
  {
   "cell_type": "code",
   "execution_count": 60,
   "metadata": {},
   "outputs": [
    {
     "output_type": "execute_result",
     "data": {
      "text/plain": "  CD_A   PER  ENT    CON  V_SEL  N_HOG  N_REN  S3P1  S3P1_2 S3P2  ... S4P17_6  \\\n1   14  1117    1  40018      4      1      1   2.0     6.0  NaN  ...       3   \n2   14  1117    1  40018      2      1      1   2.0     6.0  NaN  ...       3   \n3   14  1117    1  40018      1      1      3   4.0     3.0  NaN  ...       2   \n\n   S4P17_7  S4P17_8  S4P17_9  S4P17_10  S4P17_11  S4P17_12  S4P17_13  \\\n1        3        3        3         3         3         2         3   \n2        3        3        3         3         3         2         3   \n3        2        3        3         3         2         2         3   \n\n   S4P17_14    FAC  \n1         3   5072  \n2         3   7608  \n3         3  10144  \n\n[3 rows x 236 columns]",
      "text/html": "<div>\n<style scoped>\n    .dataframe tbody tr th:only-of-type {\n        vertical-align: middle;\n    }\n\n    .dataframe tbody tr th {\n        vertical-align: top;\n    }\n\n    .dataframe thead th {\n        text-align: right;\n    }\n</style>\n<table border=\"1\" class=\"dataframe\">\n  <thead>\n    <tr style=\"text-align: right;\">\n      <th></th>\n      <th>CD_A</th>\n      <th>PER</th>\n      <th>ENT</th>\n      <th>CON</th>\n      <th>V_SEL</th>\n      <th>N_HOG</th>\n      <th>N_REN</th>\n      <th>S3P1</th>\n      <th>S3P1_2</th>\n      <th>S3P2</th>\n      <th>...</th>\n      <th>S4P17_6</th>\n      <th>S4P17_7</th>\n      <th>S4P17_8</th>\n      <th>S4P17_9</th>\n      <th>S4P17_10</th>\n      <th>S4P17_11</th>\n      <th>S4P17_12</th>\n      <th>S4P17_13</th>\n      <th>S4P17_14</th>\n      <th>FAC</th>\n    </tr>\n  </thead>\n  <tbody>\n    <tr>\n      <th>1</th>\n      <td>14</td>\n      <td>1117</td>\n      <td>1</td>\n      <td>40018</td>\n      <td>4</td>\n      <td>1</td>\n      <td>1</td>\n      <td>2.0</td>\n      <td>6.0</td>\n      <td>NaN</td>\n      <td>...</td>\n      <td>3</td>\n      <td>3</td>\n      <td>3</td>\n      <td>3</td>\n      <td>3</td>\n      <td>3</td>\n      <td>2</td>\n      <td>3</td>\n      <td>3</td>\n      <td>5072</td>\n    </tr>\n    <tr>\n      <th>2</th>\n      <td>14</td>\n      <td>1117</td>\n      <td>1</td>\n      <td>40018</td>\n      <td>2</td>\n      <td>1</td>\n      <td>1</td>\n      <td>2.0</td>\n      <td>6.0</td>\n      <td>NaN</td>\n      <td>...</td>\n      <td>3</td>\n      <td>3</td>\n      <td>3</td>\n      <td>3</td>\n      <td>3</td>\n      <td>3</td>\n      <td>2</td>\n      <td>3</td>\n      <td>3</td>\n      <td>7608</td>\n    </tr>\n    <tr>\n      <th>3</th>\n      <td>14</td>\n      <td>1117</td>\n      <td>1</td>\n      <td>40018</td>\n      <td>1</td>\n      <td>1</td>\n      <td>3</td>\n      <td>4.0</td>\n      <td>3.0</td>\n      <td>NaN</td>\n      <td>...</td>\n      <td>2</td>\n      <td>2</td>\n      <td>3</td>\n      <td>3</td>\n      <td>3</td>\n      <td>2</td>\n      <td>2</td>\n      <td>3</td>\n      <td>3</td>\n      <td>10144</td>\n    </tr>\n  </tbody>\n</table>\n<p>3 rows × 236 columns</p>\n</div>"
     },
     "metadata": {},
     "execution_count": 60
    }
   ],
   "source": [
    "datos.loc[1:3]"
   ]
  },
  {
   "cell_type": "code",
   "execution_count": 62,
   "metadata": {},
   "outputs": [
    {
     "output_type": "execute_result",
     "data": {
      "text/plain": "  CD_A   PER  ENT    CON  V_SEL  N_HOG  N_REN  S3P1  S3P1_2  S3P2  ...  \\\n6   14  1117    1  40034      4      1      1   2.0     2.0   NaN  ...   \n8   14  1117    1  40034      5      1      3   7.0     5.0  5512  ...   \n2   14  1117    1  40018      2      1      1   2.0     6.0   NaN  ...   \n1   14  1117    1  40018      4      1      1   2.0     6.0   NaN  ...   \n\n  S4P17_6  S4P17_7  S4P17_8  S4P17_9  S4P17_10  S4P17_11  S4P17_12  S4P17_13  \\\n6       2        2        2        2         3         2         2         3   \n8       1        3        2        2         2         1         2         1   \n2       3        3        3        3         3         3         2         3   \n1       3        3        3        3         3         3         2         3   \n\n   S4P17_14   FAC  \n6         3  9584  \n8         1  9584  \n2         3  7608  \n1         3  5072  \n\n[4 rows x 236 columns]",
      "text/html": "<div>\n<style scoped>\n    .dataframe tbody tr th:only-of-type {\n        vertical-align: middle;\n    }\n\n    .dataframe tbody tr th {\n        vertical-align: top;\n    }\n\n    .dataframe thead th {\n        text-align: right;\n    }\n</style>\n<table border=\"1\" class=\"dataframe\">\n  <thead>\n    <tr style=\"text-align: right;\">\n      <th></th>\n      <th>CD_A</th>\n      <th>PER</th>\n      <th>ENT</th>\n      <th>CON</th>\n      <th>V_SEL</th>\n      <th>N_HOG</th>\n      <th>N_REN</th>\n      <th>S3P1</th>\n      <th>S3P1_2</th>\n      <th>S3P2</th>\n      <th>...</th>\n      <th>S4P17_6</th>\n      <th>S4P17_7</th>\n      <th>S4P17_8</th>\n      <th>S4P17_9</th>\n      <th>S4P17_10</th>\n      <th>S4P17_11</th>\n      <th>S4P17_12</th>\n      <th>S4P17_13</th>\n      <th>S4P17_14</th>\n      <th>FAC</th>\n    </tr>\n  </thead>\n  <tbody>\n    <tr>\n      <th>6</th>\n      <td>14</td>\n      <td>1117</td>\n      <td>1</td>\n      <td>40034</td>\n      <td>4</td>\n      <td>1</td>\n      <td>1</td>\n      <td>2.0</td>\n      <td>2.0</td>\n      <td>NaN</td>\n      <td>...</td>\n      <td>2</td>\n      <td>2</td>\n      <td>2</td>\n      <td>2</td>\n      <td>3</td>\n      <td>2</td>\n      <td>2</td>\n      <td>3</td>\n      <td>3</td>\n      <td>9584</td>\n    </tr>\n    <tr>\n      <th>8</th>\n      <td>14</td>\n      <td>1117</td>\n      <td>1</td>\n      <td>40034</td>\n      <td>5</td>\n      <td>1</td>\n      <td>3</td>\n      <td>7.0</td>\n      <td>5.0</td>\n      <td>5512</td>\n      <td>...</td>\n      <td>1</td>\n      <td>3</td>\n      <td>2</td>\n      <td>2</td>\n      <td>2</td>\n      <td>1</td>\n      <td>2</td>\n      <td>1</td>\n      <td>1</td>\n      <td>9584</td>\n    </tr>\n    <tr>\n      <th>2</th>\n      <td>14</td>\n      <td>1117</td>\n      <td>1</td>\n      <td>40018</td>\n      <td>2</td>\n      <td>1</td>\n      <td>1</td>\n      <td>2.0</td>\n      <td>6.0</td>\n      <td>NaN</td>\n      <td>...</td>\n      <td>3</td>\n      <td>3</td>\n      <td>3</td>\n      <td>3</td>\n      <td>3</td>\n      <td>3</td>\n      <td>2</td>\n      <td>3</td>\n      <td>3</td>\n      <td>7608</td>\n    </tr>\n    <tr>\n      <th>1</th>\n      <td>14</td>\n      <td>1117</td>\n      <td>1</td>\n      <td>40018</td>\n      <td>4</td>\n      <td>1</td>\n      <td>1</td>\n      <td>2.0</td>\n      <td>6.0</td>\n      <td>NaN</td>\n      <td>...</td>\n      <td>3</td>\n      <td>3</td>\n      <td>3</td>\n      <td>3</td>\n      <td>3</td>\n      <td>3</td>\n      <td>2</td>\n      <td>3</td>\n      <td>3</td>\n      <td>5072</td>\n    </tr>\n  </tbody>\n</table>\n<p>4 rows × 236 columns</p>\n</div>"
     },
     "metadata": {},
     "execution_count": 62
    }
   ],
   "source": [
    "datos.loc[[6,8,2,1]]"
   ]
  },
  {
   "cell_type": "code",
   "execution_count": null,
   "metadata": {},
   "outputs": [],
   "source": [
    "#Una columna"
   ]
  },
  {
   "cell_type": "code",
   "execution_count": 63,
   "metadata": {},
   "outputs": [
    {
     "output_type": "execute_result",
     "data": {
      "text/plain": "0       3.0\n1       2.0\n2       2.0\n3       4.0\n4       3.0\n       ... \n2848    6.0\n2849    7.0\n2850    3.0\n2851    6.0\n2852    4.0\nName: S3P1, Length: 2853, dtype: float64"
     },
     "metadata": {},
     "execution_count": 63
    }
   ],
   "source": [
    "datos[\"S3P1\"]"
   ]
  },
  {
   "cell_type": "code",
   "execution_count": 64,
   "metadata": {},
   "outputs": [],
   "source": [
    "#Varias columnas"
   ]
  },
  {
   "cell_type": "code",
   "execution_count": 66,
   "metadata": {},
   "outputs": [
    {
     "output_type": "execute_result",
     "data": {
      "text/plain": "      S3P1  S3P2  V_SEL\n0      3.0   NaN      3\n1      2.0   NaN      4\n2      2.0   NaN      2\n3      4.0   NaN      1\n4      3.0   NaN      5\n...    ...   ...    ...\n2848   6.0  4334      2\n2849   7.0  5713      2\n2850   3.0   NaN      4\n2851   6.0  2511      5\n2852   4.0   NaN      3\n\n[2853 rows x 3 columns]",
      "text/html": "<div>\n<style scoped>\n    .dataframe tbody tr th:only-of-type {\n        vertical-align: middle;\n    }\n\n    .dataframe tbody tr th {\n        vertical-align: top;\n    }\n\n    .dataframe thead th {\n        text-align: right;\n    }\n</style>\n<table border=\"1\" class=\"dataframe\">\n  <thead>\n    <tr style=\"text-align: right;\">\n      <th></th>\n      <th>S3P1</th>\n      <th>S3P2</th>\n      <th>V_SEL</th>\n    </tr>\n  </thead>\n  <tbody>\n    <tr>\n      <th>0</th>\n      <td>3.0</td>\n      <td>NaN</td>\n      <td>3</td>\n    </tr>\n    <tr>\n      <th>1</th>\n      <td>2.0</td>\n      <td>NaN</td>\n      <td>4</td>\n    </tr>\n    <tr>\n      <th>2</th>\n      <td>2.0</td>\n      <td>NaN</td>\n      <td>2</td>\n    </tr>\n    <tr>\n      <th>3</th>\n      <td>4.0</td>\n      <td>NaN</td>\n      <td>1</td>\n    </tr>\n    <tr>\n      <th>4</th>\n      <td>3.0</td>\n      <td>NaN</td>\n      <td>5</td>\n    </tr>\n    <tr>\n      <th>...</th>\n      <td>...</td>\n      <td>...</td>\n      <td>...</td>\n    </tr>\n    <tr>\n      <th>2848</th>\n      <td>6.0</td>\n      <td>4334</td>\n      <td>2</td>\n    </tr>\n    <tr>\n      <th>2849</th>\n      <td>7.0</td>\n      <td>5713</td>\n      <td>2</td>\n    </tr>\n    <tr>\n      <th>2850</th>\n      <td>3.0</td>\n      <td>NaN</td>\n      <td>4</td>\n    </tr>\n    <tr>\n      <th>2851</th>\n      <td>6.0</td>\n      <td>2511</td>\n      <td>5</td>\n    </tr>\n    <tr>\n      <th>2852</th>\n      <td>4.0</td>\n      <td>NaN</td>\n      <td>3</td>\n    </tr>\n  </tbody>\n</table>\n<p>2853 rows × 3 columns</p>\n</div>"
     },
     "metadata": {},
     "execution_count": 66
    }
   ],
   "source": [
    "datos[[\"S3P1\",\"S3P2\",\"V_SEL\"]]"
   ]
  },
  {
   "cell_type": "code",
   "execution_count": 67,
   "metadata": {},
   "outputs": [],
   "source": [
    "#Una mezcla de filas y columnas"
   ]
  },
  {
   "cell_type": "code",
   "execution_count": 69,
   "metadata": {},
   "outputs": [
    {
     "output_type": "execute_result",
     "data": {
      "text/plain": "   S3P1  S3P2  V_SEL\n6   2.0   NaN      4\n8   7.0  5512      5\n2   2.0   NaN      2\n1   2.0   NaN      4",
      "text/html": "<div>\n<style scoped>\n    .dataframe tbody tr th:only-of-type {\n        vertical-align: middle;\n    }\n\n    .dataframe tbody tr th {\n        vertical-align: top;\n    }\n\n    .dataframe thead th {\n        text-align: right;\n    }\n</style>\n<table border=\"1\" class=\"dataframe\">\n  <thead>\n    <tr style=\"text-align: right;\">\n      <th></th>\n      <th>S3P1</th>\n      <th>S3P2</th>\n      <th>V_SEL</th>\n    </tr>\n  </thead>\n  <tbody>\n    <tr>\n      <th>6</th>\n      <td>2.0</td>\n      <td>NaN</td>\n      <td>4</td>\n    </tr>\n    <tr>\n      <th>8</th>\n      <td>7.0</td>\n      <td>5512</td>\n      <td>5</td>\n    </tr>\n    <tr>\n      <th>2</th>\n      <td>2.0</td>\n      <td>NaN</td>\n      <td>2</td>\n    </tr>\n    <tr>\n      <th>1</th>\n      <td>2.0</td>\n      <td>NaN</td>\n      <td>4</td>\n    </tr>\n  </tbody>\n</table>\n</div>"
     },
     "metadata": {},
     "execution_count": 69
    }
   ],
   "source": [
    "datos.loc[[6,8,2,1],[\"S3P1\",\"S3P2\",\"V_SEL\"]]"
   ]
  },
  {
   "cell_type": "code",
   "execution_count": 70,
   "metadata": {},
   "outputs": [],
   "source": [
    "#Podemos incluso pedirle un slice de todas las filas y de solo algunas columnas"
   ]
  },
  {
   "cell_type": "code",
   "execution_count": 71,
   "metadata": {},
   "outputs": [
    {
     "output_type": "execute_result",
     "data": {
      "text/plain": "      S3P1  S3P1_2  S3P2\n0      3.0     3.0   NaN\n1      2.0     6.0   NaN\n2      2.0     6.0   NaN\n3      4.0     3.0   NaN\n4      3.0     3.0   NaN\n...    ...     ...   ...\n2848   6.0     3.0  4334\n2849   7.0     5.0  5713\n2850   3.0     3.0   NaN\n2851   6.0     1.0  2511\n2852   4.0     3.0   NaN\n\n[2853 rows x 3 columns]",
      "text/html": "<div>\n<style scoped>\n    .dataframe tbody tr th:only-of-type {\n        vertical-align: middle;\n    }\n\n    .dataframe tbody tr th {\n        vertical-align: top;\n    }\n\n    .dataframe thead th {\n        text-align: right;\n    }\n</style>\n<table border=\"1\" class=\"dataframe\">\n  <thead>\n    <tr style=\"text-align: right;\">\n      <th></th>\n      <th>S3P1</th>\n      <th>S3P1_2</th>\n      <th>S3P2</th>\n    </tr>\n  </thead>\n  <tbody>\n    <tr>\n      <th>0</th>\n      <td>3.0</td>\n      <td>3.0</td>\n      <td>NaN</td>\n    </tr>\n    <tr>\n      <th>1</th>\n      <td>2.0</td>\n      <td>6.0</td>\n      <td>NaN</td>\n    </tr>\n    <tr>\n      <th>2</th>\n      <td>2.0</td>\n      <td>6.0</td>\n      <td>NaN</td>\n    </tr>\n    <tr>\n      <th>3</th>\n      <td>4.0</td>\n      <td>3.0</td>\n      <td>NaN</td>\n    </tr>\n    <tr>\n      <th>4</th>\n      <td>3.0</td>\n      <td>3.0</td>\n      <td>NaN</td>\n    </tr>\n    <tr>\n      <th>...</th>\n      <td>...</td>\n      <td>...</td>\n      <td>...</td>\n    </tr>\n    <tr>\n      <th>2848</th>\n      <td>6.0</td>\n      <td>3.0</td>\n      <td>4334</td>\n    </tr>\n    <tr>\n      <th>2849</th>\n      <td>7.0</td>\n      <td>5.0</td>\n      <td>5713</td>\n    </tr>\n    <tr>\n      <th>2850</th>\n      <td>3.0</td>\n      <td>3.0</td>\n      <td>NaN</td>\n    </tr>\n    <tr>\n      <th>2851</th>\n      <td>6.0</td>\n      <td>1.0</td>\n      <td>2511</td>\n    </tr>\n    <tr>\n      <th>2852</th>\n      <td>4.0</td>\n      <td>3.0</td>\n      <td>NaN</td>\n    </tr>\n  </tbody>\n</table>\n<p>2853 rows × 3 columns</p>\n</div>"
     },
     "metadata": {},
     "execution_count": 71
    }
   ],
   "source": [
    "datos.loc[:,\"S3P1\":\"S3P2\"]"
   ]
  },
  {
   "cell_type": "code",
   "execution_count": 14,
   "metadata": {},
   "outputs": [],
   "source": [
    "#Las columnas se relacionan con las preguntas en el cuestionario. Toda esta información se puede triangular en los cuestionarios y en los archivos descriptivos de las bases de datos."
   ]
  },
  {
   "cell_type": "code",
   "execution_count": 15,
   "metadata": {},
   "outputs": [],
   "source": [
    "#Concentrémonos en los factores de expansión. Un factor de expansión es el equivalente de una persona encuestada para obtener toda la población objetivo. Si sumamos todos los factores de expansión obtenemos la población objetivo"
   ]
  },
  {
   "cell_type": "code",
   "execution_count": 16,
   "metadata": {},
   "outputs": [],
   "source": [
    "#Podemos trabajar solamente con la columna que nos interes \"FAC\". Esta estructura de datos se llama una Serie, tiene un índice."
   ]
  },
  {
   "cell_type": "code",
   "execution_count": 29,
   "metadata": {},
   "outputs": [
    {
     "output_type": "execute_result",
     "data": {
      "text/plain": "0        5072\n1        5072\n2        7608\n3       10144\n4        5072\n        ...  \n2848     3888\n2849     1602\n2850     2403\n2851     2403\n2852     2403\nName: FAC, Length: 2853, dtype: int64"
     },
     "metadata": {},
     "execution_count": 29
    }
   ],
   "source": [
    "datos[\"FAC\"]"
   ]
  },
  {
   "cell_type": "code",
   "execution_count": null,
   "metadata": {},
   "outputs": [],
   "source": [
    "#Pandas nos permite obtener estadística básica sobre una serie"
   ]
  },
  {
   "cell_type": "code",
   "execution_count": 30,
   "metadata": {},
   "outputs": [
    {
     "output_type": "execute_result",
     "data": {
      "text/plain": "count      2853.000000\nmean      12989.090782\nstd       31027.402883\nmin         629.000000\n25%        3114.000000\n50%        5552.000000\n75%        9890.000000\nmax      368320.000000\nName: FAC, dtype: float64"
     },
     "metadata": {},
     "execution_count": 30
    }
   ],
   "source": [
    "datos[\"FAC\"].describe()"
   ]
  },
  {
   "cell_type": "code",
   "execution_count": 31,
   "metadata": {},
   "outputs": [],
   "source": [
    "#Aplicar operaciones como si la serie fuera un vector"
   ]
  },
  {
   "cell_type": "code",
   "execution_count": 33,
   "metadata": {},
   "outputs": [
    {
     "output_type": "execute_result",
     "data": {
      "text/plain": "0       -5072\n1       -5072\n2       -7608\n3      -10144\n4       -5072\n        ...  \n2848    -3888\n2849    -1602\n2850    -2403\n2851    -2403\n2852    -2403\nName: FAC, Length: 2853, dtype: int64"
     },
     "metadata": {},
     "execution_count": 33
    }
   ],
   "source": [
    "datos[\"FAC\"]*-1"
   ]
  },
  {
   "cell_type": "code",
   "execution_count": 18,
   "metadata": {},
   "outputs": [],
   "source": [
    "#Se puede observar que son solamente 2853 registros, es decir 2853 cuestionarios. Sin embargo la población objetivo es la población mayor de 18 años."
   ]
  },
  {
   "cell_type": "code",
   "execution_count": 19,
   "metadata": {},
   "outputs": [
    {
     "output_type": "execute_result",
     "data": {
      "text/plain": "37057876"
     },
     "metadata": {},
     "execution_count": 19
    }
   ],
   "source": [
    "datos[\"FAC\"].sum()"
   ]
  },
  {
   "cell_type": "code",
   "execution_count": 20,
   "metadata": {},
   "outputs": [],
   "source": [
    "#Pandas nos permite saber que valores tiene una columna"
   ]
  },
  {
   "cell_type": "code",
   "execution_count": 22,
   "metadata": {},
   "outputs": [
    {
     "output_type": "execute_result",
     "data": {
      "text/plain": "7.0     719\n3.0     691\n4.0     590\n2.0     459\n6.0     184\n9.0      83\n5.0      20\n10.0     14\n8.0      13\n1.0       1\nName: S3P1, dtype: int64"
     },
     "metadata": {},
     "execution_count": 22
    }
   ],
   "source": [
    "datos[\"S3P1\"].value_counts()"
   ]
  },
  {
   "cell_type": "code",
   "execution_count": 34,
   "metadata": {},
   "outputs": [],
   "source": [
    "#El valor 7 es el que tiene mayor número de respuestas, corresponde con licenciatura o ingeniería. Sin embargo no necesariamente es el que tiene más personas. Necesitamos sumar los factores de expansión con esa respuesta"
   ]
  },
  {
   "cell_type": "code",
   "execution_count": null,
   "metadata": {},
   "outputs": [],
   "source": [
    "#Pandas nos permite generar Series hechas de condiciones booleanas"
   ]
  },
  {
   "cell_type": "code",
   "execution_count": 26,
   "metadata": {},
   "outputs": [
    {
     "output_type": "execute_result",
     "data": {
      "text/plain": "0       False\n1       False\n2       False\n3       False\n4       False\n        ...  \n2848    False\n2849     True\n2850    False\n2851    False\n2852    False\nName: S3P1, Length: 2853, dtype: bool"
     },
     "metadata": {},
     "execution_count": 26
    }
   ],
   "source": [
    "datos[\"S3P1\"]==7"
   ]
  },
  {
   "cell_type": "code",
   "execution_count": 35,
   "metadata": {},
   "outputs": [],
   "source": [
    "#Y luego utilizar esas series para filtrar otras Series o DataFrames (Pandas se encarga de hacer match de acuerdo al índice)"
   ]
  },
  {
   "cell_type": "code",
   "execution_count": 36,
   "metadata": {},
   "outputs": [],
   "source": [
    "condicion = datos[\"S3P1\"]==7"
   ]
  },
  {
   "cell_type": "code",
   "execution_count": 37,
   "metadata": {},
   "outputs": [
    {
     "output_type": "execute_result",
     "data": {
      "text/plain": "     CD_A   PER  ENT    CON  V_SEL  N_HOG  N_REN  S3P1  S3P1_2  S3P2  ...  \\\n5      14  1117    1  40034      3      1      2   7.0     4.0  5335  ...   \n8      14  1117    1  40034      5      1      3   7.0     5.0  5512  ...   \n39     14  1117    1  40100      4      1      3   7.0     4.0  5335  ...   \n41     14  1117    1  40100      1      1      1   7.0     5.0  5335  ...   \n42     14  1117    1  40100      5      1      3   7.0     4.0  5121  ...   \n...   ...   ...  ...    ...    ...    ...    ...   ...     ...   ...  ...   \n2840   32  1117   32  40326      5      1      1   7.0     4.0  5122  ...   \n2845   32  1117   32  40345      3      1      5   7.0     1.0  5334  ...   \n2846   32  1117   32  40345      1      1      3   7.0     5.0  5441  ...   \n2847   32  1117   32  40345      5      1      1   7.0     5.0  5524  ...   \n2849   32  1117   32  40390      2      1      2   7.0     5.0  5713  ...   \n\n     S4P17_6  S4P17_7  S4P17_8  S4P17_9  S4P17_10  S4P17_11  S4P17_12  \\\n5          1        2        2        2         2         2         1   \n8          1        3        2        2         2         1         2   \n39         2        3        3        2         3         2         2   \n41         2        2        2        2         2         2         2   \n42         1        3        3        3         3         1         2   \n...      ...      ...      ...      ...       ...       ...       ...   \n2840       4        2        4        4         4         1         2   \n2845       2        2        1        2         2         1         2   \n2846       1        1        3        2         2         2         2   \n2847       1        3        3        2         2         1         2   \n2849       1        1        1        2         3         1         1   \n\n      S4P17_13  S4P17_14    FAC  \n5            2         2   4792  \n8            1         1   9584  \n39           2         2   7521  \n41           2         2   2507  \n42           2         3  10028  \n...        ...       ...    ...  \n2840         2         4   1274  \n2845         2         2   4860  \n2846         1         2   3888  \n2847         2         1   3888  \n2849         2         3   1602  \n\n[719 rows x 236 columns]",
      "text/html": "<div>\n<style scoped>\n    .dataframe tbody tr th:only-of-type {\n        vertical-align: middle;\n    }\n\n    .dataframe tbody tr th {\n        vertical-align: top;\n    }\n\n    .dataframe thead th {\n        text-align: right;\n    }\n</style>\n<table border=\"1\" class=\"dataframe\">\n  <thead>\n    <tr style=\"text-align: right;\">\n      <th></th>\n      <th>CD_A</th>\n      <th>PER</th>\n      <th>ENT</th>\n      <th>CON</th>\n      <th>V_SEL</th>\n      <th>N_HOG</th>\n      <th>N_REN</th>\n      <th>S3P1</th>\n      <th>S3P1_2</th>\n      <th>S3P2</th>\n      <th>...</th>\n      <th>S4P17_6</th>\n      <th>S4P17_7</th>\n      <th>S4P17_8</th>\n      <th>S4P17_9</th>\n      <th>S4P17_10</th>\n      <th>S4P17_11</th>\n      <th>S4P17_12</th>\n      <th>S4P17_13</th>\n      <th>S4P17_14</th>\n      <th>FAC</th>\n    </tr>\n  </thead>\n  <tbody>\n    <tr>\n      <th>5</th>\n      <td>14</td>\n      <td>1117</td>\n      <td>1</td>\n      <td>40034</td>\n      <td>3</td>\n      <td>1</td>\n      <td>2</td>\n      <td>7.0</td>\n      <td>4.0</td>\n      <td>5335</td>\n      <td>...</td>\n      <td>1</td>\n      <td>2</td>\n      <td>2</td>\n      <td>2</td>\n      <td>2</td>\n      <td>2</td>\n      <td>1</td>\n      <td>2</td>\n      <td>2</td>\n      <td>4792</td>\n    </tr>\n    <tr>\n      <th>8</th>\n      <td>14</td>\n      <td>1117</td>\n      <td>1</td>\n      <td>40034</td>\n      <td>5</td>\n      <td>1</td>\n      <td>3</td>\n      <td>7.0</td>\n      <td>5.0</td>\n      <td>5512</td>\n      <td>...</td>\n      <td>1</td>\n      <td>3</td>\n      <td>2</td>\n      <td>2</td>\n      <td>2</td>\n      <td>1</td>\n      <td>2</td>\n      <td>1</td>\n      <td>1</td>\n      <td>9584</td>\n    </tr>\n    <tr>\n      <th>39</th>\n      <td>14</td>\n      <td>1117</td>\n      <td>1</td>\n      <td>40100</td>\n      <td>4</td>\n      <td>1</td>\n      <td>3</td>\n      <td>7.0</td>\n      <td>4.0</td>\n      <td>5335</td>\n      <td>...</td>\n      <td>2</td>\n      <td>3</td>\n      <td>3</td>\n      <td>2</td>\n      <td>3</td>\n      <td>2</td>\n      <td>2</td>\n      <td>2</td>\n      <td>2</td>\n      <td>7521</td>\n    </tr>\n    <tr>\n      <th>41</th>\n      <td>14</td>\n      <td>1117</td>\n      <td>1</td>\n      <td>40100</td>\n      <td>1</td>\n      <td>1</td>\n      <td>1</td>\n      <td>7.0</td>\n      <td>5.0</td>\n      <td>5335</td>\n      <td>...</td>\n      <td>2</td>\n      <td>2</td>\n      <td>2</td>\n      <td>2</td>\n      <td>2</td>\n      <td>2</td>\n      <td>2</td>\n      <td>2</td>\n      <td>2</td>\n      <td>2507</td>\n    </tr>\n    <tr>\n      <th>42</th>\n      <td>14</td>\n      <td>1117</td>\n      <td>1</td>\n      <td>40100</td>\n      <td>5</td>\n      <td>1</td>\n      <td>3</td>\n      <td>7.0</td>\n      <td>4.0</td>\n      <td>5121</td>\n      <td>...</td>\n      <td>1</td>\n      <td>3</td>\n      <td>3</td>\n      <td>3</td>\n      <td>3</td>\n      <td>1</td>\n      <td>2</td>\n      <td>2</td>\n      <td>3</td>\n      <td>10028</td>\n    </tr>\n    <tr>\n      <th>...</th>\n      <td>...</td>\n      <td>...</td>\n      <td>...</td>\n      <td>...</td>\n      <td>...</td>\n      <td>...</td>\n      <td>...</td>\n      <td>...</td>\n      <td>...</td>\n      <td>...</td>\n      <td>...</td>\n      <td>...</td>\n      <td>...</td>\n      <td>...</td>\n      <td>...</td>\n      <td>...</td>\n      <td>...</td>\n      <td>...</td>\n      <td>...</td>\n      <td>...</td>\n      <td>...</td>\n    </tr>\n    <tr>\n      <th>2840</th>\n      <td>32</td>\n      <td>1117</td>\n      <td>32</td>\n      <td>40326</td>\n      <td>5</td>\n      <td>1</td>\n      <td>1</td>\n      <td>7.0</td>\n      <td>4.0</td>\n      <td>5122</td>\n      <td>...</td>\n      <td>4</td>\n      <td>2</td>\n      <td>4</td>\n      <td>4</td>\n      <td>4</td>\n      <td>1</td>\n      <td>2</td>\n      <td>2</td>\n      <td>4</td>\n      <td>1274</td>\n    </tr>\n    <tr>\n      <th>2845</th>\n      <td>32</td>\n      <td>1117</td>\n      <td>32</td>\n      <td>40345</td>\n      <td>3</td>\n      <td>1</td>\n      <td>5</td>\n      <td>7.0</td>\n      <td>1.0</td>\n      <td>5334</td>\n      <td>...</td>\n      <td>2</td>\n      <td>2</td>\n      <td>1</td>\n      <td>2</td>\n      <td>2</td>\n      <td>1</td>\n      <td>2</td>\n      <td>2</td>\n      <td>2</td>\n      <td>4860</td>\n    </tr>\n    <tr>\n      <th>2846</th>\n      <td>32</td>\n      <td>1117</td>\n      <td>32</td>\n      <td>40345</td>\n      <td>1</td>\n      <td>1</td>\n      <td>3</td>\n      <td>7.0</td>\n      <td>5.0</td>\n      <td>5441</td>\n      <td>...</td>\n      <td>1</td>\n      <td>1</td>\n      <td>3</td>\n      <td>2</td>\n      <td>2</td>\n      <td>2</td>\n      <td>2</td>\n      <td>1</td>\n      <td>2</td>\n      <td>3888</td>\n    </tr>\n    <tr>\n      <th>2847</th>\n      <td>32</td>\n      <td>1117</td>\n      <td>32</td>\n      <td>40345</td>\n      <td>5</td>\n      <td>1</td>\n      <td>1</td>\n      <td>7.0</td>\n      <td>5.0</td>\n      <td>5524</td>\n      <td>...</td>\n      <td>1</td>\n      <td>3</td>\n      <td>3</td>\n      <td>2</td>\n      <td>2</td>\n      <td>1</td>\n      <td>2</td>\n      <td>2</td>\n      <td>1</td>\n      <td>3888</td>\n    </tr>\n    <tr>\n      <th>2849</th>\n      <td>32</td>\n      <td>1117</td>\n      <td>32</td>\n      <td>40390</td>\n      <td>2</td>\n      <td>1</td>\n      <td>2</td>\n      <td>7.0</td>\n      <td>5.0</td>\n      <td>5713</td>\n      <td>...</td>\n      <td>1</td>\n      <td>1</td>\n      <td>1</td>\n      <td>2</td>\n      <td>3</td>\n      <td>1</td>\n      <td>1</td>\n      <td>2</td>\n      <td>3</td>\n      <td>1602</td>\n    </tr>\n  </tbody>\n</table>\n<p>719 rows × 236 columns</p>\n</div>"
     },
     "metadata": {},
     "execution_count": 37
    }
   ],
   "source": [
    "datos[condicion]"
   ]
  },
  {
   "cell_type": "code",
   "execution_count": 41,
   "metadata": {},
   "outputs": [],
   "source": [
    "temporal = datos[condicion]"
   ]
  },
  {
   "cell_type": "code",
   "execution_count": null,
   "metadata": {},
   "outputs": [],
   "source": [
    "#Luego podemos entonces seleccionar la columna que nos interesa y sumar"
   ]
  },
  {
   "cell_type": "code",
   "execution_count": 40,
   "metadata": {},
   "outputs": [
    {
     "output_type": "execute_result",
     "data": {
      "text/plain": "7586872"
     },
     "metadata": {},
     "execution_count": 40
    }
   ],
   "source": [
    "temporal[\"FAC\"].sum()"
   ]
  },
  {
   "cell_type": "code",
   "execution_count": 42,
   "metadata": {},
   "outputs": [],
   "source": [
    "#Si tuvieramos que hacer esto para un montón de respuestas sería muy repetitívo. Pandas permite hacer grupos de acuerdo al valor de una o varias columnas"
   ]
  },
  {
   "cell_type": "code",
   "execution_count": 43,
   "metadata": {},
   "outputs": [
    {
     "output_type": "execute_result",
     "data": {
      "text/plain": "<pandas.core.groupby.generic.DataFrameGroupBy object at 0x1394D0A0>"
     },
     "metadata": {},
     "execution_count": 43
    }
   ],
   "source": [
    "datos.groupby(\"S3P1\")"
   ]
  },
  {
   "cell_type": "code",
   "execution_count": 46,
   "metadata": {},
   "outputs": [],
   "source": [
    "grupos = datos.groupby(\"S3P1\")"
   ]
  },
  {
   "cell_type": "code",
   "execution_count": null,
   "metadata": {},
   "outputs": [],
   "source": [
    "#Entonces podemos hacer consultas sobre los grupos, por ejemplo cual es su tamaño"
   ]
  },
  {
   "cell_type": "code",
   "execution_count": 45,
   "metadata": {},
   "outputs": [
    {
     "output_type": "execute_result",
     "data": {
      "text/plain": "S3P1\n1.0       1\n2.0     459\n3.0     691\n4.0     590\n5.0      20\n6.0     184\n7.0     719\n8.0      13\n9.0      83\n10.0     14\ndtype: int64"
     },
     "metadata": {},
     "execution_count": 45
    }
   ],
   "source": [
    "grupos.size()"
   ]
  },
  {
   "cell_type": "code",
   "execution_count": 47,
   "metadata": {},
   "outputs": [],
   "source": [
    "#Cada grupo tiene estructura similar a un dataframe, podemos seleccionar una columna de cada uno y hacer operaciones sobre el"
   ]
  },
  {
   "cell_type": "code",
   "execution_count": 48,
   "metadata": {},
   "outputs": [
    {
     "output_type": "execute_result",
     "data": {
      "text/plain": "S3P1\n1.0      135752\n2.0     6842690\n3.0     8814607\n4.0     9171045\n5.0       91315\n6.0     2609883\n7.0     7586872\n8.0      102790\n9.0      557209\n10.0     130164\nName: FAC, dtype: int64"
     },
     "metadata": {},
     "execution_count": 48
    }
   ],
   "source": [
    "grupos[\"FAC\"].sum()"
   ]
  },
  {
   "cell_type": "code",
   "execution_count": 72,
   "metadata": {},
   "outputs": [],
   "source": [
    "#Incluso podríamos ejecutar funciones que regresen más de un valor para cada grupo"
   ]
  },
  {
   "cell_type": "code",
   "execution_count": 73,
   "metadata": {},
   "outputs": [
    {
     "output_type": "execute_result",
     "data": {
      "text/plain": "      count           mean           std       min       25%       50%  \\\nS3P1                                                                     \n1.0     1.0  135752.000000           NaN  135752.0  135752.0  135752.0   \n2.0   459.0   14907.821351  36466.610010     720.0    3217.0    5886.0   \n3.0   691.0   12756.305355  30065.923042     740.0    3092.5    5487.0   \n4.0   590.0   15544.144068  38156.974999     786.0    3693.0    6055.5   \n5.0    20.0    4565.750000   3249.858926     781.0    1397.0    4678.0   \n6.0   184.0   14184.146739  31105.534654     794.0    2881.5    5870.0   \n7.0   719.0   10551.977747  22774.539374     629.0    2974.0    5382.0   \n8.0    13.0    7906.923077  14492.791694    1312.0    2282.0    2824.0   \n9.0    83.0    6713.361446   9285.691481     839.0    2213.0    4088.0   \n10.0   14.0    9297.428571   8244.708799    1422.0    2771.5    4229.5   \n\n            75%       max  \nS3P1                       \n1.0   135752.00  135752.0  \n2.0    10394.50  287836.0  \n3.0    10306.00  368320.0  \n4.0    10177.00  368320.0  \n5.0     5849.50   11380.0  \n6.0    10391.75  212616.0  \n7.0     9304.00  357680.0  \n8.0     6542.00   55401.0  \n9.0     6712.50   52972.0  \n10.0   15532.50   23510.0  ",
      "text/html": "<div>\n<style scoped>\n    .dataframe tbody tr th:only-of-type {\n        vertical-align: middle;\n    }\n\n    .dataframe tbody tr th {\n        vertical-align: top;\n    }\n\n    .dataframe thead th {\n        text-align: right;\n    }\n</style>\n<table border=\"1\" class=\"dataframe\">\n  <thead>\n    <tr style=\"text-align: right;\">\n      <th></th>\n      <th>count</th>\n      <th>mean</th>\n      <th>std</th>\n      <th>min</th>\n      <th>25%</th>\n      <th>50%</th>\n      <th>75%</th>\n      <th>max</th>\n    </tr>\n    <tr>\n      <th>S3P1</th>\n      <th></th>\n      <th></th>\n      <th></th>\n      <th></th>\n      <th></th>\n      <th></th>\n      <th></th>\n      <th></th>\n    </tr>\n  </thead>\n  <tbody>\n    <tr>\n      <th>1.0</th>\n      <td>1.0</td>\n      <td>135752.000000</td>\n      <td>NaN</td>\n      <td>135752.0</td>\n      <td>135752.0</td>\n      <td>135752.0</td>\n      <td>135752.00</td>\n      <td>135752.0</td>\n    </tr>\n    <tr>\n      <th>2.0</th>\n      <td>459.0</td>\n      <td>14907.821351</td>\n      <td>36466.610010</td>\n      <td>720.0</td>\n      <td>3217.0</td>\n      <td>5886.0</td>\n      <td>10394.50</td>\n      <td>287836.0</td>\n    </tr>\n    <tr>\n      <th>3.0</th>\n      <td>691.0</td>\n      <td>12756.305355</td>\n      <td>30065.923042</td>\n      <td>740.0</td>\n      <td>3092.5</td>\n      <td>5487.0</td>\n      <td>10306.00</td>\n      <td>368320.0</td>\n    </tr>\n    <tr>\n      <th>4.0</th>\n      <td>590.0</td>\n      <td>15544.144068</td>\n      <td>38156.974999</td>\n      <td>786.0</td>\n      <td>3693.0</td>\n      <td>6055.5</td>\n      <td>10177.00</td>\n      <td>368320.0</td>\n    </tr>\n    <tr>\n      <th>5.0</th>\n      <td>20.0</td>\n      <td>4565.750000</td>\n      <td>3249.858926</td>\n      <td>781.0</td>\n      <td>1397.0</td>\n      <td>4678.0</td>\n      <td>5849.50</td>\n      <td>11380.0</td>\n    </tr>\n    <tr>\n      <th>6.0</th>\n      <td>184.0</td>\n      <td>14184.146739</td>\n      <td>31105.534654</td>\n      <td>794.0</td>\n      <td>2881.5</td>\n      <td>5870.0</td>\n      <td>10391.75</td>\n      <td>212616.0</td>\n    </tr>\n    <tr>\n      <th>7.0</th>\n      <td>719.0</td>\n      <td>10551.977747</td>\n      <td>22774.539374</td>\n      <td>629.0</td>\n      <td>2974.0</td>\n      <td>5382.0</td>\n      <td>9304.00</td>\n      <td>357680.0</td>\n    </tr>\n    <tr>\n      <th>8.0</th>\n      <td>13.0</td>\n      <td>7906.923077</td>\n      <td>14492.791694</td>\n      <td>1312.0</td>\n      <td>2282.0</td>\n      <td>2824.0</td>\n      <td>6542.00</td>\n      <td>55401.0</td>\n    </tr>\n    <tr>\n      <th>9.0</th>\n      <td>83.0</td>\n      <td>6713.361446</td>\n      <td>9285.691481</td>\n      <td>839.0</td>\n      <td>2213.0</td>\n      <td>4088.0</td>\n      <td>6712.50</td>\n      <td>52972.0</td>\n    </tr>\n    <tr>\n      <th>10.0</th>\n      <td>14.0</td>\n      <td>9297.428571</td>\n      <td>8244.708799</td>\n      <td>1422.0</td>\n      <td>2771.5</td>\n      <td>4229.5</td>\n      <td>15532.50</td>\n      <td>23510.0</td>\n    </tr>\n  </tbody>\n</table>\n</div>"
     },
     "metadata": {},
     "execution_count": 73
    }
   ],
   "source": [
    "grupos[\"FAC\"].describe()"
   ]
  },
  {
   "cell_type": "code",
   "execution_count": 74,
   "metadata": {},
   "outputs": [],
   "source": [
    "#Calculemos el porcentaje de personas en cada uno de los grupos. Necesitamos la suma de personas en cada grupo y la suma total de personas"
   ]
  },
  {
   "cell_type": "code",
   "execution_count": 76,
   "metadata": {},
   "outputs": [
    {
     "output_type": "execute_result",
     "data": {
      "text/plain": "S3P1\n1.0     0.003663\n2.0     0.184649\n3.0     0.237861\n4.0     0.247479\n5.0     0.002464\n6.0     0.070427\n7.0     0.204730\n8.0     0.002774\n9.0     0.015036\n10.0    0.003512\nName: FAC, dtype: float64"
     },
     "metadata": {},
     "execution_count": 76
    }
   ],
   "source": [
    "grupos[\"FAC\"].sum()/datos[\"FAC\"].sum()"
   ]
  },
  {
   "cell_type": "code",
   "execution_count": 77,
   "metadata": {},
   "outputs": [
    {
     "output_type": "execute_result",
     "data": {
      "text/plain": "S3P1\n1.0      0.366324\n2.0     18.464874\n3.0     23.786056\n4.0     24.747897\n5.0      0.246412\n6.0      7.042721\n7.0     20.473035\n8.0      0.277377\n9.0      1.503618\n10.0     0.351245\nName: FAC, dtype: float64"
     },
     "metadata": {},
     "execution_count": 77
    }
   ],
   "source": [
    "grupos[\"FAC\"].sum()/datos[\"FAC\"].sum()*100"
   ]
  },
  {
   "cell_type": "code",
   "execution_count": 78,
   "metadata": {},
   "outputs": [],
   "source": [
    "porcentajes = grupos[\"FAC\"].sum()/datos[\"FAC\"].sum()*100"
   ]
  },
  {
   "source": [
    "porcentajes.sum()"
   ],
   "cell_type": "code",
   "metadata": {},
   "execution_count": 81,
   "outputs": [
    {
     "output_type": "execute_result",
     "data": {
      "text/plain": "97.25955961426394"
     },
     "metadata": {},
     "execution_count": 81
    }
   ]
  },
  {
   "cell_type": "code",
   "execution_count": 85,
   "metadata": {},
   "outputs": [
    {
     "output_type": "execute_result",
     "data": {
      "text/plain": "79"
     },
     "metadata": {},
     "execution_count": 85
    }
   ],
   "source": [
    "datos[\"S3P1\"].isna().sum()"
   ]
  },
  {
   "cell_type": "code",
   "execution_count": 87,
   "metadata": {},
   "outputs": [
    {
     "output_type": "execute_result",
     "data": {
      "text/plain": "2.740440385736085"
     },
     "metadata": {},
     "execution_count": 87
    }
   ],
   "source": [
    "datos[datos[\"S3P1\"].isna()][\"FAC\"].sum()/datos[\"FAC\"].sum()*100"
   ]
  },
  {
   "cell_type": "code",
   "execution_count": 88,
   "metadata": {},
   "outputs": [],
   "source": [
    "#Podemos ordenarlos"
   ]
  },
  {
   "cell_type": "code",
   "execution_count": 89,
   "metadata": {},
   "outputs": [
    {
     "output_type": "execute_result",
     "data": {
      "text/plain": "S3P1\n5.0      0.246412\n8.0      0.277377\n10.0     0.351245\n1.0      0.366324\n9.0      1.503618\n6.0      7.042721\n2.0     18.464874\n7.0     20.473035\n3.0     23.786056\n4.0     24.747897\nName: FAC, dtype: float64"
     },
     "metadata": {},
     "execution_count": 89
    }
   ],
   "source": [
    "porcentajes.sort_values()"
   ]
  },
  {
   "cell_type": "code",
   "execution_count": 91,
   "metadata": {},
   "outputs": [
    {
     "output_type": "execute_result",
     "data": {
      "text/plain": "S3P1\n4.0     24.747897\n3.0     23.786056\n7.0     20.473035\n2.0     18.464874\n6.0      7.042721\n9.0      1.503618\n1.0      0.366324\n10.0     0.351245\n8.0      0.277377\n5.0      0.246412\nName: FAC, dtype: float64"
     },
     "metadata": {},
     "execution_count": 91
    }
   ],
   "source": [
    "porcentajes.sort_values(ascending=False)"
   ]
  },
  {
   "cell_type": "code",
   "execution_count": 92,
   "metadata": {},
   "outputs": [],
   "source": [
    "import bokeh.plotting as bpl"
   ]
  },
  {
   "cell_type": "code",
   "execution_count": 93,
   "metadata": {},
   "outputs": [
    {
     "output_type": "display_data",
     "data": {
      "text/html": "\n    <div class=\"bk-root\">\n        <a href=\"https://bokeh.org\" target=\"_blank\" class=\"bk-logo bk-logo-small bk-logo-notebook\"></a>\n        <span id=\"1001\">Loading BokehJS ...</span>\n    </div>"
     },
     "metadata": {}
    },
    {
     "output_type": "display_data",
     "data": {
      "application/javascript": "\n(function(root) {\n  function now() {\n    return new Date();\n  }\n\n  var force = true;\n\n  if (typeof root._bokeh_onload_callbacks === \"undefined\" || force === true) {\n    root._bokeh_onload_callbacks = [];\n    root._bokeh_is_loading = undefined;\n  }\n\n  var JS_MIME_TYPE = 'application/javascript';\n  var HTML_MIME_TYPE = 'text/html';\n  var EXEC_MIME_TYPE = 'application/vnd.bokehjs_exec.v0+json';\n  var CLASS_NAME = 'output_bokeh rendered_html';\n\n  /**\n   * Render data to the DOM node\n   */\n  function render(props, node) {\n    var script = document.createElement(\"script\");\n    node.appendChild(script);\n  }\n\n  /**\n   * Handle when an output is cleared or removed\n   */\n  function handleClearOutput(event, handle) {\n    var cell = handle.cell;\n\n    var id = cell.output_area._bokeh_element_id;\n    var server_id = cell.output_area._bokeh_server_id;\n    // Clean up Bokeh references\n    if (id != null && id in Bokeh.index) {\n      Bokeh.index[id].model.document.clear();\n      delete Bokeh.index[id];\n    }\n\n    if (server_id !== undefined) {\n      // Clean up Bokeh references\n      var cmd = \"from bokeh.io.state import curstate; print(curstate().uuid_to_server['\" + server_id + \"'].get_sessions()[0].document.roots[0]._id)\";\n      cell.notebook.kernel.execute(cmd, {\n        iopub: {\n          output: function(msg) {\n            var id = msg.content.text.trim();\n            if (id in Bokeh.index) {\n              Bokeh.index[id].model.document.clear();\n              delete Bokeh.index[id];\n            }\n          }\n        }\n      });\n      // Destroy server and session\n      var cmd = \"import bokeh.io.notebook as ion; ion.destroy_server('\" + server_id + \"')\";\n      cell.notebook.kernel.execute(cmd);\n    }\n  }\n\n  /**\n   * Handle when a new output is added\n   */\n  function handleAddOutput(event, handle) {\n    var output_area = handle.output_area;\n    var output = handle.output;\n\n    // limit handleAddOutput to display_data with EXEC_MIME_TYPE content only\n    if ((output.output_type != \"display_data\") || (!output.data.hasOwnProperty(EXEC_MIME_TYPE))) {\n      return\n    }\n\n    var toinsert = output_area.element.find(\".\" + CLASS_NAME.split(' ')[0]);\n\n    if (output.metadata[EXEC_MIME_TYPE][\"id\"] !== undefined) {\n      toinsert[toinsert.length - 1].firstChild.textContent = output.data[JS_MIME_TYPE];\n      // store reference to embed id on output_area\n      output_area._bokeh_element_id = output.metadata[EXEC_MIME_TYPE][\"id\"];\n    }\n    if (output.metadata[EXEC_MIME_TYPE][\"server_id\"] !== undefined) {\n      var bk_div = document.createElement(\"div\");\n      bk_div.innerHTML = output.data[HTML_MIME_TYPE];\n      var script_attrs = bk_div.children[0].attributes;\n      for (var i = 0; i < script_attrs.length; i++) {\n        toinsert[toinsert.length - 1].firstChild.setAttribute(script_attrs[i].name, script_attrs[i].value);\n        toinsert[toinsert.length - 1].firstChild.textContent = bk_div.children[0].textContent\n      }\n      // store reference to server id on output_area\n      output_area._bokeh_server_id = output.metadata[EXEC_MIME_TYPE][\"server_id\"];\n    }\n  }\n\n  function register_renderer(events, OutputArea) {\n\n    function append_mime(data, metadata, element) {\n      // create a DOM node to render to\n      var toinsert = this.create_output_subarea(\n        metadata,\n        CLASS_NAME,\n        EXEC_MIME_TYPE\n      );\n      this.keyboard_manager.register_events(toinsert);\n      // Render to node\n      var props = {data: data, metadata: metadata[EXEC_MIME_TYPE]};\n      render(props, toinsert[toinsert.length - 1]);\n      element.append(toinsert);\n      return toinsert\n    }\n\n    /* Handle when an output is cleared or removed */\n    events.on('clear_output.CodeCell', handleClearOutput);\n    events.on('delete.Cell', handleClearOutput);\n\n    /* Handle when a new output is added */\n    events.on('output_added.OutputArea', handleAddOutput);\n\n    /**\n     * Register the mime type and append_mime function with output_area\n     */\n    OutputArea.prototype.register_mime_type(EXEC_MIME_TYPE, append_mime, {\n      /* Is output safe? */\n      safe: true,\n      /* Index of renderer in `output_area.display_order` */\n      index: 0\n    });\n  }\n\n  // register the mime type if in Jupyter Notebook environment and previously unregistered\n  if (root.Jupyter !== undefined) {\n    var events = require('base/js/events');\n    var OutputArea = require('notebook/js/outputarea').OutputArea;\n\n    if (OutputArea.prototype.mime_types().indexOf(EXEC_MIME_TYPE) == -1) {\n      register_renderer(events, OutputArea);\n    }\n  }\n\n  \n  if (typeof (root._bokeh_timeout) === \"undefined\" || force === true) {\n    root._bokeh_timeout = Date.now() + 5000;\n    root._bokeh_failed_load = false;\n  }\n\n  var NB_LOAD_WARNING = {'data': {'text/html':\n     \"<div style='background-color: #fdd'>\\n\"+\n     \"<p>\\n\"+\n     \"BokehJS does not appear to have successfully loaded. If loading BokehJS from CDN, this \\n\"+\n     \"may be due to a slow or bad network connection. Possible fixes:\\n\"+\n     \"</p>\\n\"+\n     \"<ul>\\n\"+\n     \"<li>re-rerun `output_notebook()` to attempt to load from CDN again, or</li>\\n\"+\n     \"<li>use INLINE resources instead, as so:</li>\\n\"+\n     \"</ul>\\n\"+\n     \"<code>\\n\"+\n     \"from bokeh.resources import INLINE\\n\"+\n     \"output_notebook(resources=INLINE)\\n\"+\n     \"</code>\\n\"+\n     \"</div>\"}};\n\n  function display_loaded() {\n    var el = document.getElementById(\"1001\");\n    if (el != null) {\n      el.textContent = \"BokehJS is loading...\";\n    }\n    if (root.Bokeh !== undefined) {\n      if (el != null) {\n        el.textContent = \"BokehJS \" + root.Bokeh.version + \" successfully loaded.\";\n      }\n    } else if (Date.now() < root._bokeh_timeout) {\n      setTimeout(display_loaded, 100)\n    }\n  }\n\n\n  function run_callbacks() {\n    try {\n      root._bokeh_onload_callbacks.forEach(function(callback) {\n        if (callback != null)\n          callback();\n      });\n    } finally {\n      delete root._bokeh_onload_callbacks\n    }\n    console.debug(\"Bokeh: all callbacks have finished\");\n  }\n\n  function load_libs(css_urls, js_urls, callback) {\n    if (css_urls == null) css_urls = [];\n    if (js_urls == null) js_urls = [];\n\n    root._bokeh_onload_callbacks.push(callback);\n    if (root._bokeh_is_loading > 0) {\n      console.debug(\"Bokeh: BokehJS is being loaded, scheduling callback at\", now());\n      return null;\n    }\n    if (js_urls == null || js_urls.length === 0) {\n      run_callbacks();\n      return null;\n    }\n    console.debug(\"Bokeh: BokehJS not loaded, scheduling load and callback at\", now());\n    root._bokeh_is_loading = css_urls.length + js_urls.length;\n\n    function on_load() {\n      root._bokeh_is_loading--;\n      if (root._bokeh_is_loading === 0) {\n        console.debug(\"Bokeh: all BokehJS libraries/stylesheets loaded\");\n        run_callbacks()\n      }\n    }\n\n    function on_error() {\n      console.error(\"failed to load \" + url);\n    }\n\n    for (var i = 0; i < css_urls.length; i++) {\n      var url = css_urls[i];\n      const element = document.createElement(\"link\");\n      element.onload = on_load;\n      element.onerror = on_error;\n      element.rel = \"stylesheet\";\n      element.type = \"text/css\";\n      element.href = url;\n      console.debug(\"Bokeh: injecting link tag for BokehJS stylesheet: \", url);\n      document.body.appendChild(element);\n    }\n\n    const hashes = {\"https://cdn.bokeh.org/bokeh/release/bokeh-2.2.1.min.js\": \"qkRvDQVAIfzsJo40iRBbxt6sttt0hv4lh74DG7OK4MCHv4C5oohXYoHUM5W11uqS\", \"https://cdn.bokeh.org/bokeh/release/bokeh-widgets-2.2.1.min.js\": \"Sb7Mr06a9TNlet/GEBeKaf5xH3eb6AlCzwjtU82wNPyDrnfoiVl26qnvlKjmcAd+\", \"https://cdn.bokeh.org/bokeh/release/bokeh-tables-2.2.1.min.js\": \"HaJ15vgfmcfRtB4c4YBOI4f1MUujukqInOWVqZJZZGK7Q+ivud0OKGSTn/Vm2iso\"};\n\n    for (var i = 0; i < js_urls.length; i++) {\n      var url = js_urls[i];\n      var element = document.createElement('script');\n      element.onload = on_load;\n      element.onerror = on_error;\n      element.async = false;\n      element.src = url;\n      if (url in hashes) {\n        element.crossOrigin = \"anonymous\";\n        element.integrity = \"sha384-\" + hashes[url];\n      }\n      console.debug(\"Bokeh: injecting script tag for BokehJS library: \", url);\n      document.head.appendChild(element);\n    }\n  };\n\n  function inject_raw_css(css) {\n    const element = document.createElement(\"style\");\n    element.appendChild(document.createTextNode(css));\n    document.body.appendChild(element);\n  }\n\n  \n  var js_urls = [\"https://cdn.bokeh.org/bokeh/release/bokeh-2.2.1.min.js\", \"https://cdn.bokeh.org/bokeh/release/bokeh-widgets-2.2.1.min.js\", \"https://cdn.bokeh.org/bokeh/release/bokeh-tables-2.2.1.min.js\"];\n  var css_urls = [];\n  \n\n  var inline_js = [\n    function(Bokeh) {\n      Bokeh.set_log_level(\"info\");\n    },\n    function(Bokeh) {\n    \n    \n    }\n  ];\n\n  function run_inline_js() {\n    \n    if (root.Bokeh !== undefined || force === true) {\n      \n    for (var i = 0; i < inline_js.length; i++) {\n      inline_js[i].call(root, root.Bokeh);\n    }\n    if (force === true) {\n        display_loaded();\n      }} else if (Date.now() < root._bokeh_timeout) {\n      setTimeout(run_inline_js, 100);\n    } else if (!root._bokeh_failed_load) {\n      console.log(\"Bokeh: BokehJS failed to load within specified timeout.\");\n      root._bokeh_failed_load = true;\n    } else if (force !== true) {\n      var cell = $(document.getElementById(\"1001\")).parents('.cell').data().cell;\n      cell.output_area.append_execute_result(NB_LOAD_WARNING)\n    }\n\n  }\n\n  if (root._bokeh_is_loading === 0) {\n    console.debug(\"Bokeh: BokehJS loaded, going straight to plotting\");\n    run_inline_js();\n  } else {\n    load_libs(css_urls, js_urls, function() {\n      console.debug(\"Bokeh: BokehJS plotting callback run at\", now());\n      run_inline_js();\n    });\n  }\n}(window));",
      "application/vnd.bokehjs_load.v0+json": "\n(function(root) {\n  function now() {\n    return new Date();\n  }\n\n  var force = true;\n\n  if (typeof root._bokeh_onload_callbacks === \"undefined\" || force === true) {\n    root._bokeh_onload_callbacks = [];\n    root._bokeh_is_loading = undefined;\n  }\n\n  \n\n  \n  if (typeof (root._bokeh_timeout) === \"undefined\" || force === true) {\n    root._bokeh_timeout = Date.now() + 5000;\n    root._bokeh_failed_load = false;\n  }\n\n  var NB_LOAD_WARNING = {'data': {'text/html':\n     \"<div style='background-color: #fdd'>\\n\"+\n     \"<p>\\n\"+\n     \"BokehJS does not appear to have successfully loaded. If loading BokehJS from CDN, this \\n\"+\n     \"may be due to a slow or bad network connection. Possible fixes:\\n\"+\n     \"</p>\\n\"+\n     \"<ul>\\n\"+\n     \"<li>re-rerun `output_notebook()` to attempt to load from CDN again, or</li>\\n\"+\n     \"<li>use INLINE resources instead, as so:</li>\\n\"+\n     \"</ul>\\n\"+\n     \"<code>\\n\"+\n     \"from bokeh.resources import INLINE\\n\"+\n     \"output_notebook(resources=INLINE)\\n\"+\n     \"</code>\\n\"+\n     \"</div>\"}};\n\n  function display_loaded() {\n    var el = document.getElementById(\"1001\");\n    if (el != null) {\n      el.textContent = \"BokehJS is loading...\";\n    }\n    if (root.Bokeh !== undefined) {\n      if (el != null) {\n        el.textContent = \"BokehJS \" + root.Bokeh.version + \" successfully loaded.\";\n      }\n    } else if (Date.now() < root._bokeh_timeout) {\n      setTimeout(display_loaded, 100)\n    }\n  }\n\n\n  function run_callbacks() {\n    try {\n      root._bokeh_onload_callbacks.forEach(function(callback) {\n        if (callback != null)\n          callback();\n      });\n    } finally {\n      delete root._bokeh_onload_callbacks\n    }\n    console.debug(\"Bokeh: all callbacks have finished\");\n  }\n\n  function load_libs(css_urls, js_urls, callback) {\n    if (css_urls == null) css_urls = [];\n    if (js_urls == null) js_urls = [];\n\n    root._bokeh_onload_callbacks.push(callback);\n    if (root._bokeh_is_loading > 0) {\n      console.debug(\"Bokeh: BokehJS is being loaded, scheduling callback at\", now());\n      return null;\n    }\n    if (js_urls == null || js_urls.length === 0) {\n      run_callbacks();\n      return null;\n    }\n    console.debug(\"Bokeh: BokehJS not loaded, scheduling load and callback at\", now());\n    root._bokeh_is_loading = css_urls.length + js_urls.length;\n\n    function on_load() {\n      root._bokeh_is_loading--;\n      if (root._bokeh_is_loading === 0) {\n        console.debug(\"Bokeh: all BokehJS libraries/stylesheets loaded\");\n        run_callbacks()\n      }\n    }\n\n    function on_error() {\n      console.error(\"failed to load \" + url);\n    }\n\n    for (var i = 0; i < css_urls.length; i++) {\n      var url = css_urls[i];\n      const element = document.createElement(\"link\");\n      element.onload = on_load;\n      element.onerror = on_error;\n      element.rel = \"stylesheet\";\n      element.type = \"text/css\";\n      element.href = url;\n      console.debug(\"Bokeh: injecting link tag for BokehJS stylesheet: \", url);\n      document.body.appendChild(element);\n    }\n\n    const hashes = {\"https://cdn.bokeh.org/bokeh/release/bokeh-2.2.1.min.js\": \"qkRvDQVAIfzsJo40iRBbxt6sttt0hv4lh74DG7OK4MCHv4C5oohXYoHUM5W11uqS\", \"https://cdn.bokeh.org/bokeh/release/bokeh-widgets-2.2.1.min.js\": \"Sb7Mr06a9TNlet/GEBeKaf5xH3eb6AlCzwjtU82wNPyDrnfoiVl26qnvlKjmcAd+\", \"https://cdn.bokeh.org/bokeh/release/bokeh-tables-2.2.1.min.js\": \"HaJ15vgfmcfRtB4c4YBOI4f1MUujukqInOWVqZJZZGK7Q+ivud0OKGSTn/Vm2iso\"};\n\n    for (var i = 0; i < js_urls.length; i++) {\n      var url = js_urls[i];\n      var element = document.createElement('script');\n      element.onload = on_load;\n      element.onerror = on_error;\n      element.async = false;\n      element.src = url;\n      if (url in hashes) {\n        element.crossOrigin = \"anonymous\";\n        element.integrity = \"sha384-\" + hashes[url];\n      }\n      console.debug(\"Bokeh: injecting script tag for BokehJS library: \", url);\n      document.head.appendChild(element);\n    }\n  };\n\n  function inject_raw_css(css) {\n    const element = document.createElement(\"style\");\n    element.appendChild(document.createTextNode(css));\n    document.body.appendChild(element);\n  }\n\n  \n  var js_urls = [\"https://cdn.bokeh.org/bokeh/release/bokeh-2.2.1.min.js\", \"https://cdn.bokeh.org/bokeh/release/bokeh-widgets-2.2.1.min.js\", \"https://cdn.bokeh.org/bokeh/release/bokeh-tables-2.2.1.min.js\"];\n  var css_urls = [];\n  \n\n  var inline_js = [\n    function(Bokeh) {\n      Bokeh.set_log_level(\"info\");\n    },\n    function(Bokeh) {\n    \n    \n    }\n  ];\n\n  function run_inline_js() {\n    \n    if (root.Bokeh !== undefined || force === true) {\n      \n    for (var i = 0; i < inline_js.length; i++) {\n      inline_js[i].call(root, root.Bokeh);\n    }\n    if (force === true) {\n        display_loaded();\n      }} else if (Date.now() < root._bokeh_timeout) {\n      setTimeout(run_inline_js, 100);\n    } else if (!root._bokeh_failed_load) {\n      console.log(\"Bokeh: BokehJS failed to load within specified timeout.\");\n      root._bokeh_failed_load = true;\n    } else if (force !== true) {\n      var cell = $(document.getElementById(\"1001\")).parents('.cell').data().cell;\n      cell.output_area.append_execute_result(NB_LOAD_WARNING)\n    }\n\n  }\n\n  if (root._bokeh_is_loading === 0) {\n    console.debug(\"Bokeh: BokehJS loaded, going straight to plotting\");\n    run_inline_js();\n  } else {\n    load_libs(css_urls, js_urls, function() {\n      console.debug(\"Bokeh: BokehJS plotting callback run at\", now());\n      run_inline_js();\n    });\n  }\n}(window));"
     },
     "metadata": {}
    }
   ],
   "source": [
    "bpl.output_notebook()"
   ]
  },
  {
   "cell_type": "code",
   "execution_count": 147,
   "metadata": {},
   "outputs": [],
   "source": [
    "calificacion = (datos.groupby(\"S4P14_1\")[\"FAC\"].sum()/datos[\"FAC\"].sum()*100).to_frame().reset_index()"
   ]
  },
  {
   "cell_type": "code",
   "execution_count": 151,
   "metadata": {},
   "outputs": [],
   "source": [
    "p = bpl.figure(title=\"Calificación\", plot_width=800, plot_height=400)"
   ]
  },
  {
   "cell_type": "code",
   "execution_count": 152,
   "metadata": {},
   "outputs": [
    {
     "output_type": "execute_result",
     "data": {
      "text/plain": "GlyphRenderer(id='3222', ...)",
      "text/html": "<div style=\"display: table;\"><div style=\"display: table-row;\"><div style=\"display: table-cell;\"><b title=\"bokeh.models.renderers.GlyphRenderer\">GlyphRenderer</b>(</div><div style=\"display: table-cell;\">id&nbsp;=&nbsp;'3222', <span id=\"3225\" style=\"cursor: pointer;\">&hellip;)</span></div></div><div class=\"3224\" style=\"display: none;\"><div style=\"display: table-cell;\"></div><div style=\"display: table-cell;\">data_source&nbsp;=&nbsp;ColumnDataSource(id='3219', ...),</div></div><div class=\"3224\" style=\"display: none;\"><div style=\"display: table-cell;\"></div><div style=\"display: table-cell;\">glyph&nbsp;=&nbsp;Circle(id='3220', ...),</div></div><div class=\"3224\" style=\"display: none;\"><div style=\"display: table-cell;\"></div><div style=\"display: table-cell;\">hover_glyph&nbsp;=&nbsp;None,</div></div><div class=\"3224\" style=\"display: none;\"><div style=\"display: table-cell;\"></div><div style=\"display: table-cell;\">js_event_callbacks&nbsp;=&nbsp;{},</div></div><div class=\"3224\" style=\"display: none;\"><div style=\"display: table-cell;\"></div><div style=\"display: table-cell;\">js_property_callbacks&nbsp;=&nbsp;{},</div></div><div class=\"3224\" style=\"display: none;\"><div style=\"display: table-cell;\"></div><div style=\"display: table-cell;\">level&nbsp;=&nbsp;'glyph',</div></div><div class=\"3224\" style=\"display: none;\"><div style=\"display: table-cell;\"></div><div style=\"display: table-cell;\">muted&nbsp;=&nbsp;False,</div></div><div class=\"3224\" style=\"display: none;\"><div style=\"display: table-cell;\"></div><div style=\"display: table-cell;\">muted_glyph&nbsp;=&nbsp;None,</div></div><div class=\"3224\" style=\"display: none;\"><div style=\"display: table-cell;\"></div><div style=\"display: table-cell;\">name&nbsp;=&nbsp;None,</div></div><div class=\"3224\" style=\"display: none;\"><div style=\"display: table-cell;\"></div><div style=\"display: table-cell;\">nonselection_glyph&nbsp;=&nbsp;Circle(id='3221', ...),</div></div><div class=\"3224\" style=\"display: none;\"><div style=\"display: table-cell;\"></div><div style=\"display: table-cell;\">selection_glyph&nbsp;=&nbsp;None,</div></div><div class=\"3224\" style=\"display: none;\"><div style=\"display: table-cell;\"></div><div style=\"display: table-cell;\">subscribed_events&nbsp;=&nbsp;[],</div></div><div class=\"3224\" style=\"display: none;\"><div style=\"display: table-cell;\"></div><div style=\"display: table-cell;\">tags&nbsp;=&nbsp;[],</div></div><div class=\"3224\" style=\"display: none;\"><div style=\"display: table-cell;\"></div><div style=\"display: table-cell;\">view&nbsp;=&nbsp;CDSView(id='3223', ...),</div></div><div class=\"3224\" style=\"display: none;\"><div style=\"display: table-cell;\"></div><div style=\"display: table-cell;\">visible&nbsp;=&nbsp;True,</div></div><div class=\"3224\" style=\"display: none;\"><div style=\"display: table-cell;\"></div><div style=\"display: table-cell;\">x_range_name&nbsp;=&nbsp;'default',</div></div><div class=\"3224\" style=\"display: none;\"><div style=\"display: table-cell;\"></div><div style=\"display: table-cell;\">y_range_name&nbsp;=&nbsp;'default')</div></div></div>\n<script>\n(function() {\n  var expanded = false;\n  var ellipsis = document.getElementById(\"3225\");\n  ellipsis.addEventListener(\"click\", function() {\n    var rows = document.getElementsByClassName(\"3224\");\n    for (var i = 0; i < rows.length; i++) {\n      var el = rows[i];\n      el.style.display = expanded ? \"none\" : \"table-row\";\n    }\n    ellipsis.innerHTML = expanded ? \"&hellip;)\" : \"&lsaquo;&lsaquo;&lsaquo;\";\n    expanded = !expanded;\n  });\n})();\n</script>\n"
     },
     "metadata": {},
     "execution_count": 152
    }
   ],
   "source": [
    "p.vbar(x=calificacion[\"S4P14_1\"],top=calificacion[\"FAC\"],bottom=0,width=0.8,fill_alpha=0.3,color=\"red\")\n",
    "p.line(x=calificacion[\"S4P14_1\"],y=calificacion[\"FAC\"])\n",
    "p.circle(x=calificacion[\"S4P14_1\"],y=calificacion[\"FAC\"],radius = 0.05)"
   ]
  },
  {
   "cell_type": "code",
   "execution_count": 153,
   "metadata": {},
   "outputs": [],
   "source": [
    "p.xaxis.axis_label = 'Calificación'\n",
    "p.yaxis.axis_label = 'Porcentaje de la población'"
   ]
  },
  {
   "cell_type": "code",
   "execution_count": 154,
   "metadata": {
    "tags": []
   },
   "outputs": [
    {
     "output_type": "display_data",
     "data": {
      "text/html": "\n\n\n\n\n\n  <div class=\"bk-root\" id=\"19cfabc1-4726-4743-966b-f5eadb45af3e\" data-root-id=\"3176\"></div>\n"
     },
     "metadata": {}
    },
    {
     "output_type": "display_data",
     "data": {
      "application/javascript": "(function(root) {\n  function embed_document(root) {\n    \n  var docs_json = {\"071163fe-6295-4919-a2cd-4951e1947d6a\":{\"roots\":{\"references\":[{\"attributes\":{\"below\":[{\"id\":\"3187\"}],\"center\":[{\"id\":\"3190\"},{\"id\":\"3194\"}],\"left\":[{\"id\":\"3191\"}],\"plot_height\":400,\"plot_width\":800,\"renderers\":[{\"id\":\"3212\"},{\"id\":\"3217\"},{\"id\":\"3222\"}],\"title\":{\"id\":\"3177\"},\"toolbar\":{\"id\":\"3202\"},\"x_range\":{\"id\":\"3179\"},\"x_scale\":{\"id\":\"3183\"},\"y_range\":{\"id\":\"3181\"},\"y_scale\":{\"id\":\"3185\"}},\"id\":\"3176\",\"subtype\":\"Figure\",\"type\":\"Plot\"},{\"attributes\":{},\"id\":\"3181\",\"type\":\"DataRange1d\"},{\"attributes\":{},\"id\":\"3198\",\"type\":\"SaveTool\"},{\"attributes\":{},\"id\":\"3348\",\"type\":\"UnionRenderers\"},{\"attributes\":{},\"id\":\"3185\",\"type\":\"LinearScale\"},{\"attributes\":{\"bottom_units\":\"screen\",\"fill_alpha\":0.5,\"fill_color\":\"lightgrey\",\"left_units\":\"screen\",\"level\":\"overlay\",\"line_alpha\":1.0,\"line_color\":\"black\",\"line_dash\":[4,4],\"line_width\":2,\"right_units\":\"screen\",\"top_units\":\"screen\"},\"id\":\"3201\",\"type\":\"BoxAnnotation\"},{\"attributes\":{\"data\":{\"x\":[1,2,3,4,5,6,7,8,9,10,11],\"y\":{\"__ndarray__\":\"zDSfXXYoGkCPf+pAeeL+P99CYw/YvRFA7iYgfhO5FkAipL/P4UAzQK6b7jdwKCtAtP1zEte5LkAvR+DrknEzQECFGRZXxBRAuS0QP7VwEUCCLjTskeQQQA==\",\"dtype\":\"float64\",\"order\":\"little\",\"shape\":[11]}},\"selected\":{\"id\":\"3347\"},\"selection_policy\":{\"id\":\"3346\"}},\"id\":\"3214\",\"type\":\"ColumnDataSource\"},{\"attributes\":{},\"id\":\"3200\",\"type\":\"HelpTool\"},{\"attributes\":{},\"id\":\"3199\",\"type\":\"ResetTool\"},{\"attributes\":{},\"id\":\"3345\",\"type\":\"Selection\"},{\"attributes\":{\"source\":{\"id\":\"3214\"}},\"id\":\"3218\",\"type\":\"CDSView\"},{\"attributes\":{},\"id\":\"3349\",\"type\":\"Selection\"},{\"attributes\":{},\"id\":\"3196\",\"type\":\"WheelZoomTool\"},{\"attributes\":{\"source\":{\"id\":\"3209\"}},\"id\":\"3213\",\"type\":\"CDSView\"},{\"attributes\":{},\"id\":\"3340\",\"type\":\"BasicTickFormatter\"},{\"attributes\":{\"overlay\":{\"id\":\"3201\"}},\"id\":\"3197\",\"type\":\"BoxZoomTool\"},{\"attributes\":{\"axis\":{\"id\":\"3191\"},\"dimension\":1,\"ticker\":null},\"id\":\"3194\",\"type\":\"Grid\"},{\"attributes\":{\"axis_label\":\"Calificaci\\u00f3n\",\"formatter\":{\"id\":\"3342\"},\"ticker\":{\"id\":\"3188\"}},\"id\":\"3187\",\"type\":\"LinearAxis\"},{\"attributes\":{\"line_color\":\"#1f77b4\",\"x\":{\"field\":\"x\"},\"y\":{\"field\":\"y\"}},\"id\":\"3215\",\"type\":\"Line\"},{\"attributes\":{},\"id\":\"3344\",\"type\":\"UnionRenderers\"},{\"attributes\":{\"fill_color\":{\"value\":\"#1f77b4\"},\"line_color\":{\"value\":\"#1f77b4\"},\"radius\":{\"units\":\"data\",\"value\":0.05},\"x\":{\"field\":\"x\"},\"y\":{\"field\":\"y\"}},\"id\":\"3220\",\"type\":\"Circle\"},{\"attributes\":{\"fill_alpha\":{\"value\":0.1},\"fill_color\":{\"value\":\"#1f77b4\"},\"line_alpha\":{\"value\":0.1},\"line_color\":{\"value\":\"#1f77b4\"},\"radius\":{\"units\":\"data\",\"value\":0.05},\"x\":{\"field\":\"x\"},\"y\":{\"field\":\"y\"}},\"id\":\"3221\",\"type\":\"Circle\"},{\"attributes\":{\"active_drag\":\"auto\",\"active_inspect\":\"auto\",\"active_multi\":null,\"active_scroll\":\"auto\",\"active_tap\":\"auto\",\"tools\":[{\"id\":\"3195\"},{\"id\":\"3196\"},{\"id\":\"3197\"},{\"id\":\"3198\"},{\"id\":\"3199\"},{\"id\":\"3200\"}]},\"id\":\"3202\",\"type\":\"Toolbar\"},{\"attributes\":{\"source\":{\"id\":\"3219\"}},\"id\":\"3223\",\"type\":\"CDSView\"},{\"attributes\":{\"data_source\":{\"id\":\"3219\"},\"glyph\":{\"id\":\"3220\"},\"hover_glyph\":null,\"muted_glyph\":null,\"nonselection_glyph\":{\"id\":\"3221\"},\"selection_glyph\":null,\"view\":{\"id\":\"3223\"}},\"id\":\"3222\",\"type\":\"GlyphRenderer\"},{\"attributes\":{\"axis_label\":\"Porcentaje de la poblaci\\u00f3n\",\"formatter\":{\"id\":\"3340\"},\"ticker\":{\"id\":\"3192\"}},\"id\":\"3191\",\"type\":\"LinearAxis\"},{\"attributes\":{},\"id\":\"3183\",\"type\":\"LinearScale\"},{\"attributes\":{\"fill_alpha\":{\"value\":0.1},\"fill_color\":{\"value\":\"red\"},\"line_alpha\":{\"value\":0.1},\"line_color\":{\"value\":\"red\"},\"top\":{\"field\":\"top\"},\"width\":{\"value\":0.8},\"x\":{\"field\":\"x\"}},\"id\":\"3211\",\"type\":\"VBar\"},{\"attributes\":{\"data_source\":{\"id\":\"3209\"},\"glyph\":{\"id\":\"3210\"},\"hover_glyph\":null,\"muted_glyph\":null,\"nonselection_glyph\":{\"id\":\"3211\"},\"selection_glyph\":null,\"view\":{\"id\":\"3213\"}},\"id\":\"3212\",\"type\":\"GlyphRenderer\"},{\"attributes\":{\"axis\":{\"id\":\"3187\"},\"ticker\":null},\"id\":\"3190\",\"type\":\"Grid\"},{\"attributes\":{\"data\":{\"top\":{\"__ndarray__\":\"zDSfXXYoGkCPf+pAeeL+P99CYw/YvRFA7iYgfhO5FkAipL/P4UAzQK6b7jdwKCtAtP1zEte5LkAvR+DrknEzQECFGRZXxBRAuS0QP7VwEUCCLjTskeQQQA==\",\"dtype\":\"float64\",\"order\":\"little\",\"shape\":[11]},\"x\":[1,2,3,4,5,6,7,8,9,10,11]},\"selected\":{\"id\":\"3345\"},\"selection_policy\":{\"id\":\"3344\"}},\"id\":\"3209\",\"type\":\"ColumnDataSource\"},{\"attributes\":{\"fill_alpha\":{\"value\":0.3},\"fill_color\":{\"value\":\"red\"},\"line_color\":{\"value\":\"red\"},\"top\":{\"field\":\"top\"},\"width\":{\"value\":0.8},\"x\":{\"field\":\"x\"}},\"id\":\"3210\",\"type\":\"VBar\"},{\"attributes\":{\"data_source\":{\"id\":\"3214\"},\"glyph\":{\"id\":\"3215\"},\"hover_glyph\":null,\"muted_glyph\":null,\"nonselection_glyph\":{\"id\":\"3216\"},\"selection_glyph\":null,\"view\":{\"id\":\"3218\"}},\"id\":\"3217\",\"type\":\"GlyphRenderer\"},{\"attributes\":{},\"id\":\"3188\",\"type\":\"BasicTicker\"},{\"attributes\":{},\"id\":\"3346\",\"type\":\"UnionRenderers\"},{\"attributes\":{\"text\":\"Calificaci\\u00f3n\"},\"id\":\"3177\",\"type\":\"Title\"},{\"attributes\":{},\"id\":\"3179\",\"type\":\"DataRange1d\"},{\"attributes\":{},\"id\":\"3192\",\"type\":\"BasicTicker\"},{\"attributes\":{\"line_alpha\":0.1,\"line_color\":\"#1f77b4\",\"x\":{\"field\":\"x\"},\"y\":{\"field\":\"y\"}},\"id\":\"3216\",\"type\":\"Line\"},{\"attributes\":{\"data\":{\"x\":[1,2,3,4,5,6,7,8,9,10,11],\"y\":{\"__ndarray__\":\"zDSfXXYoGkCPf+pAeeL+P99CYw/YvRFA7iYgfhO5FkAipL/P4UAzQK6b7jdwKCtAtP1zEte5LkAvR+DrknEzQECFGRZXxBRAuS0QP7VwEUCCLjTskeQQQA==\",\"dtype\":\"float64\",\"order\":\"little\",\"shape\":[11]}},\"selected\":{\"id\":\"3349\"},\"selection_policy\":{\"id\":\"3348\"}},\"id\":\"3219\",\"type\":\"ColumnDataSource\"},{\"attributes\":{},\"id\":\"3195\",\"type\":\"PanTool\"},{\"attributes\":{},\"id\":\"3347\",\"type\":\"Selection\"},{\"attributes\":{},\"id\":\"3342\",\"type\":\"BasicTickFormatter\"}],\"root_ids\":[\"3176\"]},\"title\":\"Bokeh Application\",\"version\":\"2.2.1\"}};\n  var render_items = [{\"docid\":\"071163fe-6295-4919-a2cd-4951e1947d6a\",\"root_ids\":[\"3176\"],\"roots\":{\"3176\":\"19cfabc1-4726-4743-966b-f5eadb45af3e\"}}];\n  root.Bokeh.embed.embed_items_notebook(docs_json, render_items);\n\n  }\n  if (root.Bokeh !== undefined) {\n    embed_document(root);\n  } else {\n    var attempts = 0;\n    var timer = setInterval(function(root) {\n      if (root.Bokeh !== undefined) {\n        clearInterval(timer);\n        embed_document(root);\n      } else {\n        attempts++;\n        if (attempts > 100) {\n          clearInterval(timer);\n          console.log(\"Bokeh: ERROR: Unable to run BokehJS code because BokehJS library is missing\");\n        }\n      }\n    }, 10, root)\n  }\n})(window);",
      "application/vnd.bokehjs_exec.v0+json": ""
     },
     "metadata": {
      "application/vnd.bokehjs_exec.v0+json": {
       "id": "3176"
      }
     }
    }
   ],
   "source": [
    "bpl.show(p)"
   ]
  },
  {
   "cell_type": "code",
   "execution_count": 164,
   "metadata": {},
   "outputs": [],
   "source": [
    "datos2 = pd.read_csv(\"./datos/conjunto_de_datos/tr_cbasico2.csv\")"
   ]
  },
  {
   "cell_type": "code",
   "execution_count": 167,
   "metadata": {},
   "outputs": [
    {
     "output_type": "execute_result",
     "data": {
      "text/plain": "array(['CD_A', 'PER', 'ENT', 'CON', 'V_SEL', 'N_HOG', 'N_REN', 'S4P18_1',\n       'S4P18_2', 'S4P18_3', 'S4P18_4', 'S4P18_5', 'S4P18_6', 'S4P18_7',\n       'S4P18_8', 'S4P18_9', 'S4P18_10', 'S4P18_11', 'S4P18_12',\n       'S4P18_13', 'S4P18_14', 'S4P18_15', 'S4P18_16', 'S4P18_17',\n       'S4P18_18', 'S4P18_19', 'S4P18_20', 'S4P19', 'S4P20', 'S4P21_1',\n       'S4P21_2', 'S4P21_3', 'S4P21_4', 'S4P21_5', 'S4P21_6', 'S4P21_7',\n       'S4P22_1', 'S4P22_2', 'S4P22_3', 'S4P22_4', 'S4P22_5', 'S4P22_6',\n       'S4P22_7', 'S4P22_8', 'S4P22_9', 'S4P22_10', 'S4P22_11',\n       'S4P22_12', 'S4P23_1', 'S4P23_2', 'S4P23_3', 'S4P23_4', 'S4P23_5',\n       'S4P23_6', 'S4P23_7', 'S4P23_8', 'S4P23_9', 'S4P23_10', 'S4P24_1',\n       'S4P24_2', 'S4P24_3', 'S4P24_4', 'S4P24_5', 'S4P24_6', 'S4P25_1',\n       'S4P25_2', 'S4P25_3', 'S4P25_4', 'S4P25_5', 'S4P25_6', 'S4P25_7',\n       'S4P25_8', 'S4P25_9', 'S4P25_10', 'S4P25_11', 'S4P25_12',\n       'S4P26_1', 'S4P26_2', 'S4P26_3', 'S4P26_4', 'S4P26_5', 'S4P27_1',\n       'S4P27_2', 'S4P27_3', 'S4P27_4', 'S4P27_5', 'S4P27_6', 'S4P27_7',\n       'S4P27_8', 'S4P27_9', 'S4P28_1', 'S4P28_2', 'S4P28_3', 'S4P28_4',\n       'S4P28_5', 'S4P28_6', 'S4P28_7', 'S4P28_8', 'S4P28_9', 'S4P29_1',\n       'S4P29_2', 'S4P30', 'S4P30_1', 'S4P30_2', 'S4P31', 'S4P31_1_1',\n       'S4P31_1_2', 'S4P31_1_3', 'S4P31_1_4', 'S4P31_1_5', 'S4P31_1_6',\n       'S4P31_1_7', 'S4P32', 'S4P32_1', 'S4P33', 'S5P1', 'S5P1_1',\n       'S5P2_1', 'S5P2_2', 'S5P2_3', 'S5P2_4', 'S5P2_5', 'S5P2_6',\n       'S5P2_ES', 'S5P3', 'S5P4_1', 'S5P4_2', 'S5P4_3', 'S5P4_4',\n       'S5P4_5', 'S5P4_6', 'S5P4_7', 'S5P4_8', 'S5P4_9', 'S5P4_10',\n       'S5P4_11', 'S5P4_12', 'S5P4_ES', 'S5P5', 'S5P6_1', 'S5P6_2',\n       'S5P6_3', 'S5P6_4', 'S5P6_5', 'S5P6_6', 'S5P6_7', 'S5P6_8',\n       'S5P6_9', 'S5P6_10', 'S5P6_11', 'S5P6_12', 'S5P6_13', 'S5P6_14',\n       'S5P7', 'S5P8', 'S5P9', 'S5P10_1', 'S5P10_2', 'S5P10_3', 'S5P10_4',\n       'S5P10_5', 'S5P10_6', 'S5P11_D1', 'S5P11_D2', 'S5P11_D3',\n       'S5P12_1', 'S5P12_2', 'S5P12_3', 'S5P12_4', 'S5P12_5', 'S5P12_6',\n       'S5P12_ESP', 'S5P13_1', 'S5P13_2', 'S5P13_3', 'S5P13_4', 'S5P13_5',\n       'S5P13_6', 'S5P13_7', 'S5P13_8', 'S5P13_9', 'S5P13_10', 'S5P13_11',\n       'S5P13_12', 'S5P13_13', 'S5P13_14', 'S5P13_15', 'S5P13_16',\n       'S5P13_17', 'S5P13_18', 'S5P13_19', 'S5P13_20', 'S5P13_21',\n       'S5P13_22', 'S5P13_23', 'S5P13_24', 'S5P13_25', 'S5P13_26',\n       'S5P13_27', 'OBS', 'FAC'], dtype=object)"
     },
     "metadata": {},
     "execution_count": 167
    }
   ],
   "source": [
    "np.array(datos2.columns)"
   ]
  },
  {
   "cell_type": "code",
   "execution_count": 168,
   "metadata": {},
   "outputs": [],
   "source": [
    "cols = datos2.loc[:,\"S4P18_1\":\"S4P18_20\"].columns"
   ]
  },
  {
   "cell_type": "code",
   "execution_count": 174,
   "metadata": {},
   "outputs": [
    {
     "output_type": "execute_result",
     "data": {
      "text/plain": "88.42761522543817"
     },
     "metadata": {},
     "execution_count": 174
    }
   ],
   "source": [
    "datos2[datos2[cols[0]]==1][\"FAC\"].sum()/datos2[\"FAC\"].sum()*100"
   ]
  },
  {
   "cell_type": "code",
   "execution_count": 187,
   "metadata": {},
   "outputs": [
    {
     "output_type": "execute_result",
     "data": {
      "text/plain": "   S4P18_1        FAC\n0        1  88.427615\n1        2   6.158192\n2        3   5.414193",
      "text/html": "<div>\n<style scoped>\n    .dataframe tbody tr th:only-of-type {\n        vertical-align: middle;\n    }\n\n    .dataframe tbody tr th {\n        vertical-align: top;\n    }\n\n    .dataframe thead th {\n        text-align: right;\n    }\n</style>\n<table border=\"1\" class=\"dataframe\">\n  <thead>\n    <tr style=\"text-align: right;\">\n      <th></th>\n      <th>S4P18_1</th>\n      <th>FAC</th>\n    </tr>\n  </thead>\n  <tbody>\n    <tr>\n      <th>0</th>\n      <td>1</td>\n      <td>88.427615</td>\n    </tr>\n    <tr>\n      <th>1</th>\n      <td>2</td>\n      <td>6.158192</td>\n    </tr>\n    <tr>\n      <th>2</th>\n      <td>3</td>\n      <td>5.414193</td>\n    </tr>\n  </tbody>\n</table>\n</div>"
     },
     "metadata": {},
     "execution_count": 187
    }
   ],
   "source": [
    "(datos2.groupby(cols[0])[\"FAC\"].sum()/datos2[\"FAC\"].sum()*100).reset_index()"
   ]
  },
  {
   "cell_type": "code",
   "execution_count": 247,
   "metadata": {},
   "outputs": [],
   "source": [
    "p = bpl.figure(y_range=list(cols),x_range=[\"1\",\"2\",\"3\"],plot_width=1000,plot_height=1500)"
   ]
  },
  {
   "cell_type": "code",
   "execution_count": 248,
   "metadata": {},
   "outputs": [],
   "source": [
    "for col in cols:\n",
    "    temporal = (datos2.groupby(col)[\"FAC\"].sum()/datos2[\"FAC\"].sum()*100).reset_index()\n",
    "    temporal[\"opciones\"] = temporal[col].astype(str)\n",
    "    p.circle(x=temporal[\"opciones\"], y=[col,col,col], radius=temporal[\"FAC\"]/1000,color=\"yellow\")\n",
    "    p.text(x=temporal[\"opciones\"], y=[col,col,col], text=np.floor(temporal[\"FAC\"]).astype(str) + \"%\",color=\"red\",text_align=\"center\",text_baseline=\"middle\",text_font_size=\"10px\")"
   ]
  },
  {
   "cell_type": "code",
   "execution_count": 249,
   "metadata": {
    "tags": []
   },
   "outputs": [
    {
     "output_type": "display_data",
     "data": {
      "text/html": "\n\n\n\n\n\n  <div class=\"bk-root\" id=\"af352d1e-951c-4d9c-b0dc-104a35f1bd5b\" data-root-id=\"102703\"></div>\n"
     },
     "metadata": {}
    },
    {
     "output_type": "display_data",
     "data": {
      "application/javascript": "(function(root) {\n  function embed_document(root) {\n    \n  var docs_json = {\"2c3ae70b-199b-4a6c-9b8a-bc9c0f0cc52b\":{\"roots\":{\"references\":[{\"attributes\":{\"below\":[{\"id\":\"102712\"}],\"center\":[{\"id\":\"102714\"},{\"id\":\"102717\"}],\"left\":[{\"id\":\"102715\"}],\"plot_height\":1500,\"plot_width\":1000,\"renderers\":[{\"id\":\"102735\"},{\"id\":\"102740\"},{\"id\":\"102745\"},{\"id\":\"102750\"},{\"id\":\"102755\"},{\"id\":\"102760\"},{\"id\":\"102765\"},{\"id\":\"102770\"},{\"id\":\"102775\"},{\"id\":\"102780\"},{\"id\":\"102785\"},{\"id\":\"102790\"},{\"id\":\"102795\"},{\"id\":\"102800\"},{\"id\":\"102805\"},{\"id\":\"102810\"},{\"id\":\"102815\"},{\"id\":\"102820\"},{\"id\":\"102825\"},{\"id\":\"102830\"},{\"id\":\"102835\"},{\"id\":\"102840\"},{\"id\":\"102845\"},{\"id\":\"102850\"},{\"id\":\"102855\"},{\"id\":\"102860\"},{\"id\":\"102865\"},{\"id\":\"102870\"},{\"id\":\"102875\"},{\"id\":\"102880\"},{\"id\":\"102885\"},{\"id\":\"102890\"},{\"id\":\"102895\"},{\"id\":\"102900\"},{\"id\":\"102905\"},{\"id\":\"102910\"},{\"id\":\"102915\"},{\"id\":\"102920\"},{\"id\":\"102925\"},{\"id\":\"102930\"}],\"title\":{\"id\":\"104475\"},\"toolbar\":{\"id\":\"102725\"},\"x_range\":{\"id\":\"102704\"},\"x_scale\":{\"id\":\"102708\"},\"y_range\":{\"id\":\"102706\"},\"y_scale\":{\"id\":\"102710\"}},\"id\":\"102703\",\"subtype\":\"Figure\",\"type\":\"Plot\"},{\"attributes\":{},\"id\":\"104491\",\"type\":\"Selection\"},{\"attributes\":{},\"id\":\"104500\",\"type\":\"UnionRenderers\"},{\"attributes\":{\"fill_alpha\":{\"value\":0.1},\"fill_color\":{\"value\":\"yellow\"},\"line_alpha\":{\"value\":0.1},\"line_color\":{\"value\":\"yellow\"},\"radius\":{\"field\":\"radius\",\"units\":\"data\"},\"x\":{\"field\":\"x\"},\"y\":{\"field\":\"y\"}},\"id\":\"102924\",\"type\":\"Circle\"},{\"attributes\":{},\"id\":\"104482\",\"type\":\"UnionRenderers\"},{\"attributes\":{\"source\":{\"id\":\"102917\"}},\"id\":\"102921\",\"type\":\"CDSView\"},{\"attributes\":{},\"id\":\"104513\",\"type\":\"Selection\"},{\"attributes\":{\"fill_color\":{\"value\":\"yellow\"},\"line_color\":{\"value\":\"yellow\"},\"radius\":{\"field\":\"radius\",\"units\":\"data\"},\"x\":{\"field\":\"x\"},\"y\":{\"field\":\"y\"}},\"id\":\"102753\",\"type\":\"Circle\"},{\"attributes\":{},\"id\":\"104517\",\"type\":\"Selection\"},{\"attributes\":{\"text_align\":\"center\",\"text_baseline\":\"middle\",\"text_color\":{\"value\":\"red\"},\"text_font_size\":{\"value\":\"10px\"},\"x\":{\"field\":\"x\"},\"y\":{\"field\":\"y\"}},\"id\":\"102738\",\"type\":\"Text\"},{\"attributes\":{},\"id\":\"104480\",\"type\":\"UnionRenderers\"},{\"attributes\":{},\"id\":\"104505\",\"type\":\"Selection\"},{\"attributes\":{\"fill_alpha\":{\"value\":0.1},\"fill_color\":{\"value\":\"yellow\"},\"line_alpha\":{\"value\":0.1},\"line_color\":{\"value\":\"yellow\"},\"radius\":{\"field\":\"radius\",\"units\":\"data\"},\"x\":{\"field\":\"x\"},\"y\":{\"field\":\"y\"}},\"id\":\"102754\",\"type\":\"Circle\"},{\"attributes\":{\"data\":{\"radius\":{\"__ndarray__\":\"T9DV24nTtT/911J+DX1yP1Pe9C738YQ/\",\"dtype\":\"float64\",\"order\":\"little\",\"shape\":[3]},\"x\":[\"1\",\"2\",\"3\"],\"y\":[\"S4P18_20\",\"S4P18_20\",\"S4P18_20\"]},\"selected\":{\"id\":\"104557\"},\"selection_policy\":{\"id\":\"104556\"}},\"id\":\"102922\",\"type\":\"ColumnDataSource\"},{\"attributes\":{},\"id\":\"104516\",\"type\":\"UnionRenderers\"},{\"attributes\":{},\"id\":\"104487\",\"type\":\"Selection\"},{\"attributes\":{\"data\":{\"radius\":{\"__ndarray__\":\"D990MzGjtj97dRn3VDl5PyYzMmsxLXY/\",\"dtype\":\"float64\",\"order\":\"little\",\"shape\":[3]},\"x\":[\"1\",\"2\",\"3\"],\"y\":[\"S4P18_1\",\"S4P18_1\",\"S4P18_1\"]},\"selected\":{\"id\":\"104481\"},\"selection_policy\":{\"id\":\"104480\"}},\"id\":\"102732\",\"type\":\"ColumnDataSource\"},{\"attributes\":{},\"id\":\"104527\",\"type\":\"Selection\"},{\"attributes\":{\"source\":{\"id\":\"102757\"}},\"id\":\"102761\",\"type\":\"CDSView\"},{\"attributes\":{},\"id\":\"104536\",\"type\":\"UnionRenderers\"},{\"attributes\":{\"text_align\":\"center\",\"text_baseline\":\"middle\",\"text_color\":{\"value\":\"red\"},\"text_font_size\":{\"value\":\"10px\"},\"x\":{\"field\":\"x\"},\"y\":{\"field\":\"y\"}},\"id\":\"102768\",\"type\":\"Text\"},{\"attributes\":{},\"id\":\"104486\",\"type\":\"UnionRenderers\"},{\"attributes\":{\"text_align\":\"center\",\"text_alpha\":{\"value\":0.1},\"text_baseline\":\"middle\",\"text_color\":{\"value\":\"red\"},\"text_font_size\":{\"value\":\"10px\"},\"x\":{\"field\":\"x\"},\"y\":{\"field\":\"y\"}},\"id\":\"102919\",\"type\":\"Text\"},{\"attributes\":{},\"id\":\"104509\",\"type\":\"Selection\"},{\"attributes\":{\"data\":{\"text\":[\"35.0%\",\"24.0%\",\"39.0%\"],\"x\":[\"1\",\"2\",\"3\"],\"y\":[\"S4P18_19\",\"S4P18_19\",\"S4P18_19\"]},\"selected\":{\"id\":\"104555\"},\"selection_policy\":{\"id\":\"104554\"}},\"id\":\"102917\",\"type\":\"ColumnDataSource\"},{\"attributes\":{\"source\":{\"id\":\"102732\"}},\"id\":\"102736\",\"type\":\"CDSView\"},{\"attributes\":{\"source\":{\"id\":\"102912\"}},\"id\":\"102916\",\"type\":\"CDSView\"},{\"attributes\":{},\"id\":\"104523\",\"type\":\"Selection\"},{\"attributes\":{\"text_align\":\"center\",\"text_alpha\":{\"value\":0.1},\"text_baseline\":\"middle\",\"text_color\":{\"value\":\"red\"},\"text_font_size\":{\"value\":\"10px\"},\"x\":{\"field\":\"x\"},\"y\":{\"field\":\"y\"}},\"id\":\"102929\",\"type\":\"Text\"},{\"attributes\":{\"data_source\":{\"id\":\"102732\"},\"glyph\":{\"id\":\"102733\"},\"hover_glyph\":null,\"muted_glyph\":null,\"nonselection_glyph\":{\"id\":\"102734\"},\"selection_glyph\":null,\"view\":{\"id\":\"102736\"}},\"id\":\"102735\",\"type\":\"GlyphRenderer\"},{\"attributes\":{\"data_source\":{\"id\":\"102772\"},\"glyph\":{\"id\":\"102773\"},\"hover_glyph\":null,\"muted_glyph\":null,\"nonselection_glyph\":{\"id\":\"102774\"},\"selection_glyph\":null,\"view\":{\"id\":\"102776\"}},\"id\":\"102775\",\"type\":\"GlyphRenderer\"},{\"attributes\":{},\"id\":\"104489\",\"type\":\"Selection\"},{\"attributes\":{},\"id\":\"104526\",\"type\":\"UnionRenderers\"},{\"attributes\":{},\"id\":\"104522\",\"type\":\"UnionRenderers\"},{\"attributes\":{\"source\":{\"id\":\"102772\"}},\"id\":\"102776\",\"type\":\"CDSView\"},{\"attributes\":{},\"id\":\"104545\",\"type\":\"Selection\"},{\"attributes\":{},\"id\":\"104532\",\"type\":\"UnionRenderers\"},{\"attributes\":{\"data_source\":{\"id\":\"102912\"},\"glyph\":{\"id\":\"102913\"},\"hover_glyph\":null,\"muted_glyph\":null,\"nonselection_glyph\":{\"id\":\"102914\"},\"selection_glyph\":null,\"view\":{\"id\":\"102916\"}},\"id\":\"102915\",\"type\":\"GlyphRenderer\"},{\"attributes\":{\"source\":{\"id\":\"102752\"}},\"id\":\"102756\",\"type\":\"CDSView\"},{\"attributes\":{\"data_source\":{\"id\":\"102757\"},\"glyph\":{\"id\":\"102758\"},\"hover_glyph\":null,\"muted_glyph\":null,\"nonselection_glyph\":{\"id\":\"102759\"},\"selection_glyph\":null,\"view\":{\"id\":\"102761\"}},\"id\":\"102760\",\"type\":\"GlyphRenderer\"},{\"attributes\":{},\"id\":\"104504\",\"type\":\"UnionRenderers\"},{\"attributes\":{},\"id\":\"104485\",\"type\":\"Selection\"},{\"attributes\":{\"data_source\":{\"id\":\"102767\"},\"glyph\":{\"id\":\"102768\"},\"hover_glyph\":null,\"muted_glyph\":null,\"nonselection_glyph\":{\"id\":\"102769\"},\"selection_glyph\":null,\"view\":{\"id\":\"102771\"}},\"id\":\"102770\",\"type\":\"GlyphRenderer\"},{\"attributes\":{},\"id\":\"104510\",\"type\":\"UnionRenderers\"},{\"attributes\":{},\"id\":\"104483\",\"type\":\"Selection\"},{\"attributes\":{\"data_source\":{\"id\":\"102922\"},\"glyph\":{\"id\":\"102923\"},\"hover_glyph\":null,\"muted_glyph\":null,\"nonselection_glyph\":{\"id\":\"102924\"},\"selection_glyph\":null,\"view\":{\"id\":\"102926\"}},\"id\":\"102925\",\"type\":\"GlyphRenderer\"},{\"attributes\":{},\"id\":\"104544\",\"type\":\"UnionRenderers\"},{\"attributes\":{},\"id\":\"104547\",\"type\":\"Selection\"},{\"attributes\":{},\"id\":\"104519\",\"type\":\"Selection\"},{\"attributes\":{},\"id\":\"104558\",\"type\":\"UnionRenderers\"},{\"attributes\":{},\"id\":\"104493\",\"type\":\"Selection\"},{\"attributes\":{},\"id\":\"104534\",\"type\":\"UnionRenderers\"},{\"attributes\":{},\"id\":\"104484\",\"type\":\"UnionRenderers\"},{\"attributes\":{},\"id\":\"104521\",\"type\":\"Selection\"},{\"attributes\":{\"data\":{\"text\":[\"88.0%\",\"6.0%\",\"5.0%\"],\"x\":[\"1\",\"2\",\"3\"],\"y\":[\"S4P18_1\",\"S4P18_1\",\"S4P18_1\"]},\"selected\":{\"id\":\"104483\"},\"selection_policy\":{\"id\":\"104482\"}},\"id\":\"102737\",\"type\":\"ColumnDataSource\"},{\"attributes\":{},\"id\":\"104529\",\"type\":\"Selection\"},{\"attributes\":{\"fill_color\":{\"value\":\"yellow\"},\"line_color\":{\"value\":\"yellow\"},\"radius\":{\"field\":\"radius\",\"units\":\"data\"},\"x\":{\"field\":\"x\"},\"y\":{\"field\":\"y\"}},\"id\":\"102733\",\"type\":\"Circle\"},{\"attributes\":{\"data\":{\"text\":[\"60.0%\",\"29.0%\",\"10.0%\"],\"x\":[\"1\",\"2\",\"3\"],\"y\":[\"S4P18_4\",\"S4P18_4\",\"S4P18_4\"]},\"selected\":{\"id\":\"104495\"},\"selection_policy\":{\"id\":\"104494\"}},\"id\":\"102767\",\"type\":\"ColumnDataSource\"},{\"attributes\":{},\"id\":\"104490\",\"type\":\"UnionRenderers\"},{\"attributes\":{},\"id\":\"104541\",\"type\":\"Selection\"},{\"attributes\":{\"source\":{\"id\":\"102737\"}},\"id\":\"102741\",\"type\":\"CDSView\"},{\"attributes\":{\"text_align\":\"center\",\"text_baseline\":\"middle\",\"text_color\":{\"value\":\"red\"},\"text_font_size\":{\"value\":\"10px\"},\"x\":{\"field\":\"x\"},\"y\":{\"field\":\"y\"}},\"id\":\"102928\",\"type\":\"Text\"},{\"attributes\":{},\"id\":\"104525\",\"type\":\"Selection\"},{\"attributes\":{\"data\":{\"text\":[\"29.0%\",\"31.0%\",\"39.0%\"],\"x\":[\"1\",\"2\",\"3\"],\"y\":[\"S4P18_5\",\"S4P18_5\",\"S4P18_5\"]},\"selected\":{\"id\":\"104499\"},\"selection_policy\":{\"id\":\"104498\"}},\"id\":\"102777\",\"type\":\"ColumnDataSource\"},{\"attributes\":{},\"id\":\"104537\",\"type\":\"Selection\"},{\"attributes\":{},\"id\":\"104518\",\"type\":\"UnionRenderers\"},{\"attributes\":{\"data\":{\"text\":[\"85.0%\",\"4.0%\",\"10.0%\"],\"x\":[\"1\",\"2\",\"3\"],\"y\":[\"S4P18_20\",\"S4P18_20\",\"S4P18_20\"]},\"selected\":{\"id\":\"104559\"},\"selection_policy\":{\"id\":\"104558\"}},\"id\":\"102927\",\"type\":\"ColumnDataSource\"},{\"attributes\":{},\"id\":\"104535\",\"type\":\"Selection\"},{\"attributes\":{\"text_align\":\"center\",\"text_alpha\":{\"value\":0.1},\"text_baseline\":\"middle\",\"text_color\":{\"value\":\"red\"},\"text_font_size\":{\"value\":\"10px\"},\"x\":{\"field\":\"x\"},\"y\":{\"field\":\"y\"}},\"id\":\"102779\",\"type\":\"Text\"},{\"attributes\":{\"text_align\":\"center\",\"text_alpha\":{\"value\":0.1},\"text_baseline\":\"middle\",\"text_color\":{\"value\":\"red\"},\"text_font_size\":{\"value\":\"10px\"},\"x\":{\"field\":\"x\"},\"y\":{\"field\":\"y\"}},\"id\":\"102739\",\"type\":\"Text\"},{\"attributes\":{},\"id\":\"104498\",\"type\":\"UnionRenderers\"},{\"attributes\":{\"source\":{\"id\":\"102907\"}},\"id\":\"102911\",\"type\":\"CDSView\"},{\"attributes\":{},\"id\":\"104543\",\"type\":\"Selection\"},{\"attributes\":{},\"id\":\"104501\",\"type\":\"Selection\"},{\"attributes\":{},\"id\":\"104530\",\"type\":\"UnionRenderers\"},{\"attributes\":{\"text_align\":\"center\",\"text_baseline\":\"middle\",\"text_color\":{\"value\":\"red\"},\"text_font_size\":{\"value\":\"10px\"},\"x\":{\"field\":\"x\"},\"y\":{\"field\":\"y\"}},\"id\":\"102918\",\"type\":\"Text\"},{\"attributes\":{},\"id\":\"104514\",\"type\":\"UnionRenderers\"},{\"attributes\":{},\"id\":\"104515\",\"type\":\"Selection\"},{\"attributes\":{\"source\":{\"id\":\"102927\"}},\"id\":\"102931\",\"type\":\"CDSView\"},{\"attributes\":{\"fill_color\":{\"value\":\"yellow\"},\"line_color\":{\"value\":\"yellow\"},\"radius\":{\"field\":\"radius\",\"units\":\"data\"},\"x\":{\"field\":\"x\"},\"y\":{\"field\":\"y\"}},\"id\":\"102773\",\"type\":\"Circle\"},{\"attributes\":{\"fill_alpha\":{\"value\":0.1},\"fill_color\":{\"value\":\"yellow\"},\"line_alpha\":{\"value\":0.1},\"line_color\":{\"value\":\"yellow\"},\"radius\":{\"field\":\"radius\",\"units\":\"data\"},\"x\":{\"field\":\"x\"},\"y\":{\"field\":\"y\"}},\"id\":\"102764\",\"type\":\"Circle\"},{\"attributes\":{\"data_source\":{\"id\":\"102752\"},\"glyph\":{\"id\":\"102753\"},\"hover_glyph\":null,\"muted_glyph\":null,\"nonselection_glyph\":{\"id\":\"102754\"},\"selection_glyph\":null,\"view\":{\"id\":\"102756\"}},\"id\":\"102755\",\"type\":\"GlyphRenderer\"},{\"attributes\":{},\"id\":\"104503\",\"type\":\"Selection\"},{\"attributes\":{},\"id\":\"104531\",\"type\":\"Selection\"},{\"attributes\":{\"data_source\":{\"id\":\"102927\"},\"glyph\":{\"id\":\"102928\"},\"hover_glyph\":null,\"muted_glyph\":null,\"nonselection_glyph\":{\"id\":\"102929\"},\"selection_glyph\":null,\"view\":{\"id\":\"102931\"}},\"id\":\"102930\",\"type\":\"GlyphRenderer\"},{\"attributes\":{\"data_source\":{\"id\":\"102737\"},\"glyph\":{\"id\":\"102738\"},\"hover_glyph\":null,\"muted_glyph\":null,\"nonselection_glyph\":{\"id\":\"102739\"},\"selection_glyph\":null,\"view\":{\"id\":\"102741\"}},\"id\":\"102740\",\"type\":\"GlyphRenderer\"},{\"attributes\":{\"data\":{\"radius\":{\"__ndarray__\":\"9pr+6zZqsj++UwYYiFmZP4Y2LfMUIGs/\",\"dtype\":\"float64\",\"order\":\"little\",\"shape\":[3]},\"x\":[\"1\",\"2\",\"3\"],\"y\":[\"S4P18_3\",\"S4P18_3\",\"S4P18_3\"]},\"selected\":{\"id\":\"104489\"},\"selection_policy\":{\"id\":\"104488\"}},\"id\":\"102752\",\"type\":\"ColumnDataSource\"},{\"attributes\":{},\"id\":\"104546\",\"type\":\"UnionRenderers\"},{\"attributes\":{},\"id\":\"104533\",\"type\":\"Selection\"},{\"attributes\":{},\"id\":\"104502\",\"type\":\"UnionRenderers\"},{\"attributes\":{},\"id\":\"104507\",\"type\":\"Selection\"},{\"attributes\":{\"fill_alpha\":{\"value\":0.1},\"fill_color\":{\"value\":\"yellow\"},\"line_alpha\":{\"value\":0.1},\"line_color\":{\"value\":\"yellow\"},\"radius\":{\"field\":\"radius\",\"units\":\"data\"},\"x\":{\"field\":\"x\"},\"y\":{\"field\":\"y\"}},\"id\":\"102734\",\"type\":\"Circle\"},{\"attributes\":{},\"id\":\"104539\",\"type\":\"Selection\"},{\"attributes\":{},\"id\":\"104542\",\"type\":\"UnionRenderers\"},{\"attributes\":{},\"id\":\"104524\",\"type\":\"UnionRenderers\"},{\"attributes\":{\"fill_alpha\":{\"value\":0.1},\"fill_color\":{\"value\":\"yellow\"},\"line_alpha\":{\"value\":0.1},\"line_color\":{\"value\":\"yellow\"},\"radius\":{\"field\":\"radius\",\"units\":\"data\"},\"x\":{\"field\":\"x\"},\"y\":{\"field\":\"y\"}},\"id\":\"102914\",\"type\":\"Circle\"},{\"attributes\":{},\"id\":\"104549\",\"type\":\"Selection\"},{\"attributes\":{\"fill_color\":{\"value\":\"yellow\"},\"line_color\":{\"value\":\"yellow\"},\"radius\":{\"field\":\"radius\",\"units\":\"data\"},\"x\":{\"field\":\"x\"},\"y\":{\"field\":\"y\"}},\"id\":\"102913\",\"type\":\"Circle\"},{\"attributes\":{\"data\":{\"radius\":{\"__ndarray__\":\"UC8dGbEyoj//pN5ZYSyZP2OxJm1RaqQ/\",\"dtype\":\"float64\",\"order\":\"little\",\"shape\":[3]},\"x\":[\"1\",\"2\",\"3\"],\"y\":[\"S4P18_19\",\"S4P18_19\",\"S4P18_19\"]},\"selected\":{\"id\":\"104553\"},\"selection_policy\":{\"id\":\"104552\"}},\"id\":\"102912\",\"type\":\"ColumnDataSource\"},{\"attributes\":{\"source\":{\"id\":\"102922\"}},\"id\":\"102926\",\"type\":\"CDSView\"},{\"attributes\":{\"text_align\":\"center\",\"text_baseline\":\"middle\",\"text_color\":{\"value\":\"red\"},\"text_font_size\":{\"value\":\"10px\"},\"x\":{\"field\":\"x\"},\"y\":{\"field\":\"y\"}},\"id\":\"102778\",\"type\":\"Text\"},{\"attributes\":{},\"id\":\"104540\",\"type\":\"UnionRenderers\"},{\"attributes\":{},\"id\":\"104506\",\"type\":\"UnionRenderers\"},{\"attributes\":{\"text_align\":\"center\",\"text_baseline\":\"middle\",\"text_color\":{\"value\":\"red\"},\"text_font_size\":{\"value\":\"10px\"},\"x\":{\"field\":\"x\"},\"y\":{\"field\":\"y\"}},\"id\":\"102758\",\"type\":\"Text\"},{\"attributes\":{},\"id\":\"104497\",\"type\":\"Selection\"},{\"attributes\":{\"data_source\":{\"id\":\"102777\"},\"glyph\":{\"id\":\"102778\"},\"hover_glyph\":null,\"muted_glyph\":null,\"nonselection_glyph\":{\"id\":\"102779\"},\"selection_glyph\":null,\"view\":{\"id\":\"102781\"}},\"id\":\"102780\",\"type\":\"GlyphRenderer\"},{\"attributes\":{\"data\":{\"radius\":{\"__ndarray__\":\"HN/zyCbdrj8ov9LBnk2ePw/SVyX0vIQ/\",\"dtype\":\"float64\",\"order\":\"little\",\"shape\":[3]},\"x\":[\"1\",\"2\",\"3\"],\"y\":[\"S4P18_4\",\"S4P18_4\",\"S4P18_4\"]},\"selected\":{\"id\":\"104493\"},\"selection_policy\":{\"id\":\"104492\"}},\"id\":\"102762\",\"type\":\"ColumnDataSource\"},{\"attributes\":{\"data\":{\"text\":[\"11.0%\",\"64.0%\",\"23.0%\"],\"x\":[\"1\",\"2\",\"3\"],\"y\":[\"S4P18_17\",\"S4P18_17\",\"S4P18_17\"]},\"selected\":{\"id\":\"104547\"},\"selection_policy\":{\"id\":\"104546\"}},\"id\":\"102897\",\"type\":\"ColumnDataSource\"},{\"attributes\":{},\"id\":\"104508\",\"type\":\"UnionRenderers\"},{\"attributes\":{},\"id\":\"104511\",\"type\":\"Selection\"},{\"attributes\":{},\"id\":\"104538\",\"type\":\"UnionRenderers\"},{\"attributes\":{\"fill_alpha\":{\"value\":0.1},\"fill_color\":{\"value\":\"yellow\"},\"line_alpha\":{\"value\":0.1},\"line_color\":{\"value\":\"yellow\"},\"radius\":{\"field\":\"radius\",\"units\":\"data\"},\"x\":{\"field\":\"x\"},\"y\":{\"field\":\"y\"}},\"id\":\"102774\",\"type\":\"Circle\"},{\"attributes\":{},\"id\":\"104494\",\"type\":\"UnionRenderers\"},{\"attributes\":{\"text_align\":\"center\",\"text_alpha\":{\"value\":0.1},\"text_baseline\":\"middle\",\"text_color\":{\"value\":\"red\"},\"text_font_size\":{\"value\":\"10px\"},\"x\":{\"field\":\"x\"},\"y\":{\"field\":\"y\"}},\"id\":\"102759\",\"type\":\"Text\"},{\"attributes\":{\"fill_color\":{\"value\":\"yellow\"},\"line_color\":{\"value\":\"yellow\"},\"radius\":{\"field\":\"radius\",\"units\":\"data\"},\"x\":{\"field\":\"x\"},\"y\":{\"field\":\"y\"}},\"id\":\"102923\",\"type\":\"Circle\"},{\"attributes\":{},\"id\":\"104512\",\"type\":\"UnionRenderers\"},{\"attributes\":{},\"id\":\"104499\",\"type\":\"Selection\"},{\"attributes\":{\"source\":{\"id\":\"102767\"}},\"id\":\"102771\",\"type\":\"CDSView\"},{\"attributes\":{},\"id\":\"104496\",\"type\":\"UnionRenderers\"},{\"attributes\":{},\"id\":\"104528\",\"type\":\"UnionRenderers\"},{\"attributes\":{},\"id\":\"104495\",\"type\":\"Selection\"},{\"attributes\":{},\"id\":\"104488\",\"type\":\"UnionRenderers\"},{\"attributes\":{\"text_align\":\"center\",\"text_alpha\":{\"value\":0.1},\"text_baseline\":\"middle\",\"text_color\":{\"value\":\"red\"},\"text_font_size\":{\"value\":\"10px\"},\"x\":{\"field\":\"x\"},\"y\":{\"field\":\"y\"}},\"id\":\"102769\",\"type\":\"Text\"},{\"attributes\":{},\"id\":\"104492\",\"type\":\"UnionRenderers\"},{\"attributes\":{\"data\":{\"radius\":{\"__ndarray__\":\"gNfQGNJlnj9oOIPtzMqfPz8rCbDjGqQ/\",\"dtype\":\"float64\",\"order\":\"little\",\"shape\":[3]},\"x\":[\"1\",\"2\",\"3\"],\"y\":[\"S4P18_5\",\"S4P18_5\",\"S4P18_5\"]},\"selected\":{\"id\":\"104497\"},\"selection_policy\":{\"id\":\"104496\"}},\"id\":\"102772\",\"type\":\"ColumnDataSource\"},{\"attributes\":{\"data\":{\"text\":[\"71.0%\",\"24.0%\",\"3.0%\"],\"x\":[\"1\",\"2\",\"3\"],\"y\":[\"S4P18_3\",\"S4P18_3\",\"S4P18_3\"]},\"selected\":{\"id\":\"104491\"},\"selection_policy\":{\"id\":\"104490\"}},\"id\":\"102757\",\"type\":\"ColumnDataSource\"},{\"attributes\":{\"data_source\":{\"id\":\"102917\"},\"glyph\":{\"id\":\"102918\"},\"hover_glyph\":null,\"muted_glyph\":null,\"nonselection_glyph\":{\"id\":\"102919\"},\"selection_glyph\":null,\"view\":{\"id\":\"102921\"}},\"id\":\"102920\",\"type\":\"GlyphRenderer\"},{\"attributes\":{},\"id\":\"104520\",\"type\":\"UnionRenderers\"},{\"attributes\":{\"fill_alpha\":{\"value\":0.1},\"fill_color\":{\"value\":\"yellow\"},\"line_alpha\":{\"value\":0.1},\"line_color\":{\"value\":\"yellow\"},\"radius\":{\"field\":\"radius\",\"units\":\"data\"},\"x\":{\"field\":\"x\"},\"y\":{\"field\":\"y\"}},\"id\":\"102904\",\"type\":\"Circle\"},{\"attributes\":{\"text_align\":\"center\",\"text_baseline\":\"middle\",\"text_color\":{\"value\":\"red\"},\"text_font_size\":{\"value\":\"10px\"},\"x\":{\"field\":\"x\"},\"y\":{\"field\":\"y\"}},\"id\":\"102788\",\"type\":\"Text\"},{\"attributes\":{\"data_source\":{\"id\":\"102867\"},\"glyph\":{\"id\":\"102868\"},\"hover_glyph\":null,\"muted_glyph\":null,\"nonselection_glyph\":{\"id\":\"102869\"},\"selection_glyph\":null,\"view\":{\"id\":\"102871\"}},\"id\":\"102870\",\"type\":\"GlyphRenderer\"},{\"attributes\":{\"source\":{\"id\":\"102787\"}},\"id\":\"102791\",\"type\":\"CDSView\"},{\"attributes\":{\"text_align\":\"center\",\"text_baseline\":\"middle\",\"text_color\":{\"value\":\"red\"},\"text_font_size\":{\"value\":\"10px\"},\"x\":{\"field\":\"x\"},\"y\":{\"field\":\"y\"}},\"id\":\"102798\",\"type\":\"Text\"},{\"attributes\":{\"fill_color\":{\"value\":\"yellow\"},\"line_color\":{\"value\":\"yellow\"},\"radius\":{\"field\":\"radius\",\"units\":\"data\"},\"x\":{\"field\":\"x\"},\"y\":{\"field\":\"y\"}},\"id\":\"102833\",\"type\":\"Circle\"},{\"attributes\":{\"data_source\":{\"id\":\"102887\"},\"glyph\":{\"id\":\"102888\"},\"hover_glyph\":null,\"muted_glyph\":null,\"nonselection_glyph\":{\"id\":\"102889\"},\"selection_glyph\":null,\"view\":{\"id\":\"102891\"}},\"id\":\"102890\",\"type\":\"GlyphRenderer\"},{\"attributes\":{\"data_source\":{\"id\":\"102797\"},\"glyph\":{\"id\":\"102798\"},\"hover_glyph\":null,\"muted_glyph\":null,\"nonselection_glyph\":{\"id\":\"102799\"},\"selection_glyph\":null,\"view\":{\"id\":\"102801\"}},\"id\":\"102800\",\"type\":\"GlyphRenderer\"},{\"attributes\":{\"data_source\":{\"id\":\"102892\"},\"glyph\":{\"id\":\"102893\"},\"hover_glyph\":null,\"muted_glyph\":null,\"nonselection_glyph\":{\"id\":\"102894\"},\"selection_glyph\":null,\"view\":{\"id\":\"102896\"}},\"id\":\"102895\",\"type\":\"GlyphRenderer\"},{\"attributes\":{},\"id\":\"104476\",\"type\":\"CategoricalTickFormatter\"},{\"attributes\":{\"data_source\":{\"id\":\"102782\"},\"glyph\":{\"id\":\"102783\"},\"hover_glyph\":null,\"muted_glyph\":null,\"nonselection_glyph\":{\"id\":\"102784\"},\"selection_glyph\":null,\"view\":{\"id\":\"102786\"}},\"id\":\"102785\",\"type\":\"GlyphRenderer\"},{\"attributes\":{\"source\":{\"id\":\"102762\"}},\"id\":\"102766\",\"type\":\"CDSView\"},{\"attributes\":{\"source\":{\"id\":\"102782\"}},\"id\":\"102786\",\"type\":\"CDSView\"},{\"attributes\":{\"data\":{\"radius\":{\"__ndarray__\":\"ePIfyN+iqz+YnAjFVfqPPyszovN7I58/\",\"dtype\":\"float64\",\"order\":\"little\",\"shape\":[3]},\"x\":[\"1\",\"2\",\"3\"],\"y\":[\"S4P18_13\",\"S4P18_13\",\"S4P18_13\"]},\"selected\":{\"id\":\"104529\"},\"selection_policy\":{\"id\":\"104528\"}},\"id\":\"102852\",\"type\":\"ColumnDataSource\"},{\"attributes\":{},\"id\":\"102718\",\"type\":\"PanTool\"},{\"attributes\":{\"source\":{\"id\":\"102792\"}},\"id\":\"102796\",\"type\":\"CDSView\"},{\"attributes\":{\"text_align\":\"center\",\"text_alpha\":{\"value\":0.1},\"text_baseline\":\"middle\",\"text_color\":{\"value\":\"red\"},\"text_font_size\":{\"value\":\"10px\"},\"x\":{\"field\":\"x\"},\"y\":{\"field\":\"y\"}},\"id\":\"102889\",\"type\":\"Text\"},{\"attributes\":{},\"id\":\"104557\",\"type\":\"Selection\"},{\"attributes\":{\"data_source\":{\"id\":\"102872\"},\"glyph\":{\"id\":\"102873\"},\"hover_glyph\":null,\"muted_glyph\":null,\"nonselection_glyph\":{\"id\":\"102874\"},\"selection_glyph\":null,\"view\":{\"id\":\"102876\"}},\"id\":\"102875\",\"type\":\"GlyphRenderer\"},{\"attributes\":{\"data\":{\"text\":[\"40.0%\",\"25.0%\",\"34.0%\"],\"x\":[\"1\",\"2\",\"3\"],\"y\":[\"S4P18_6\",\"S4P18_6\",\"S4P18_6\"]},\"selected\":{\"id\":\"104503\"},\"selection_policy\":{\"id\":\"104502\"}},\"id\":\"102787\",\"type\":\"ColumnDataSource\"},{\"attributes\":{\"fill_color\":{\"value\":\"yellow\"},\"line_color\":{\"value\":\"yellow\"},\"radius\":{\"field\":\"radius\",\"units\":\"data\"},\"x\":{\"field\":\"x\"},\"y\":{\"field\":\"y\"}},\"id\":\"102793\",\"type\":\"Circle\"},{\"attributes\":{\"text_align\":\"center\",\"text_alpha\":{\"value\":0.1},\"text_baseline\":\"middle\",\"text_color\":{\"value\":\"red\"},\"text_font_size\":{\"value\":\"10px\"},\"x\":{\"field\":\"x\"},\"y\":{\"field\":\"y\"}},\"id\":\"102789\",\"type\":\"Text\"},{\"attributes\":{\"text_align\":\"center\",\"text_baseline\":\"middle\",\"text_color\":{\"value\":\"red\"},\"text_font_size\":{\"value\":\"10px\"},\"x\":{\"field\":\"x\"},\"y\":{\"field\":\"y\"}},\"id\":\"102848\",\"type\":\"Text\"},{\"attributes\":{\"source\":{\"id\":\"102872\"}},\"id\":\"102876\",\"type\":\"CDSView\"},{\"attributes\":{\"data\":{\"text\":[\"53.0%\",\"15.0%\",\"30.0%\"],\"x\":[\"1\",\"2\",\"3\"],\"y\":[\"S4P18_13\",\"S4P18_13\",\"S4P18_13\"]},\"selected\":{\"id\":\"104531\"},\"selection_policy\":{\"id\":\"104530\"}},\"id\":\"102857\",\"type\":\"ColumnDataSource\"},{\"attributes\":{\"data_source\":{\"id\":\"102747\"},\"glyph\":{\"id\":\"102748\"},\"hover_glyph\":null,\"muted_glyph\":null,\"nonselection_glyph\":{\"id\":\"102749\"},\"selection_glyph\":null,\"view\":{\"id\":\"102751\"}},\"id\":\"102750\",\"type\":\"GlyphRenderer\"},{\"attributes\":{\"fill_color\":{\"value\":\"yellow\"},\"line_color\":{\"value\":\"yellow\"},\"radius\":{\"field\":\"radius\",\"units\":\"data\"},\"x\":{\"field\":\"x\"},\"y\":{\"field\":\"y\"}},\"id\":\"102803\",\"type\":\"Circle\"},{\"attributes\":{\"fill_alpha\":{\"value\":0.1},\"fill_color\":{\"value\":\"yellow\"},\"line_alpha\":{\"value\":0.1},\"line_color\":{\"value\":\"yellow\"},\"radius\":{\"field\":\"radius\",\"units\":\"data\"},\"x\":{\"field\":\"x\"},\"y\":{\"field\":\"y\"}},\"id\":\"102784\",\"type\":\"Circle\"},{\"attributes\":{\"data_source\":{\"id\":\"102822\"},\"glyph\":{\"id\":\"102823\"},\"hover_glyph\":null,\"muted_glyph\":null,\"nonselection_glyph\":{\"id\":\"102824\"},\"selection_glyph\":null,\"view\":{\"id\":\"102826\"}},\"id\":\"102825\",\"type\":\"GlyphRenderer\"},{\"attributes\":{\"data\":{\"text\":[\"58.0%\",\"27.0%\",\"13.0%\"],\"x\":[\"1\",\"2\",\"3\"],\"y\":[\"S4P18_10\",\"S4P18_10\",\"S4P18_10\"]},\"selected\":{\"id\":\"104519\"},\"selection_policy\":{\"id\":\"104518\"}},\"id\":\"102827\",\"type\":\"ColumnDataSource\"},{\"attributes\":{\"formatter\":{\"id\":\"104476\"},\"ticker\":{\"id\":\"102716\"}},\"id\":\"102715\",\"type\":\"CategoricalAxis\"},{\"attributes\":{\"text_align\":\"center\",\"text_alpha\":{\"value\":0.1},\"text_baseline\":\"middle\",\"text_color\":{\"value\":\"red\"},\"text_font_size\":{\"value\":\"10px\"},\"x\":{\"field\":\"x\"},\"y\":{\"field\":\"y\"}},\"id\":\"102799\",\"type\":\"Text\"},{\"attributes\":{\"fill_alpha\":{\"value\":0.1},\"fill_color\":{\"value\":\"yellow\"},\"line_alpha\":{\"value\":0.1},\"line_color\":{\"value\":\"yellow\"},\"radius\":{\"field\":\"radius\",\"units\":\"data\"},\"x\":{\"field\":\"x\"},\"y\":{\"field\":\"y\"}},\"id\":\"102854\",\"type\":\"Circle\"},{\"attributes\":{\"text_align\":\"center\",\"text_baseline\":\"middle\",\"text_color\":{\"value\":\"red\"},\"text_font_size\":{\"value\":\"10px\"},\"x\":{\"field\":\"x\"},\"y\":{\"field\":\"y\"}},\"id\":\"102878\",\"type\":\"Text\"},{\"attributes\":{\"data_source\":{\"id\":\"102807\"},\"glyph\":{\"id\":\"102808\"},\"hover_glyph\":null,\"muted_glyph\":null,\"nonselection_glyph\":{\"id\":\"102809\"},\"selection_glyph\":null,\"view\":{\"id\":\"102811\"}},\"id\":\"102810\",\"type\":\"GlyphRenderer\"},{\"attributes\":{\"fill_alpha\":{\"value\":0.1},\"fill_color\":{\"value\":\"yellow\"},\"line_alpha\":{\"value\":0.1},\"line_color\":{\"value\":\"yellow\"},\"radius\":{\"field\":\"radius\",\"units\":\"data\"},\"x\":{\"field\":\"x\"},\"y\":{\"field\":\"y\"}},\"id\":\"102834\",\"type\":\"Circle\"},{\"attributes\":{\"source\":{\"id\":\"102742\"}},\"id\":\"102746\",\"type\":\"CDSView\"},{\"attributes\":{\"source\":{\"id\":\"102882\"}},\"id\":\"102886\",\"type\":\"CDSView\"},{\"attributes\":{\"data\":{\"text\":[\"35.0%\",\"35.0%\",\"29.0%\"],\"x\":[\"1\",\"2\",\"3\"],\"y\":[\"S4P18_16\",\"S4P18_16\",\"S4P18_16\"]},\"selected\":{\"id\":\"104543\"},\"selection_policy\":{\"id\":\"104542\"}},\"id\":\"102887\",\"type\":\"ColumnDataSource\"},{\"attributes\":{\"fill_color\":{\"value\":\"yellow\"},\"line_color\":{\"value\":\"yellow\"},\"radius\":{\"field\":\"radius\",\"units\":\"data\"},\"x\":{\"field\":\"x\"},\"y\":{\"field\":\"y\"}},\"id\":\"102813\",\"type\":\"Circle\"},{\"attributes\":{\"fill_alpha\":{\"value\":0.1},\"fill_color\":{\"value\":\"yellow\"},\"line_alpha\":{\"value\":0.1},\"line_color\":{\"value\":\"yellow\"},\"radius\":{\"field\":\"radius\",\"units\":\"data\"},\"x\":{\"field\":\"x\"},\"y\":{\"field\":\"y\"}},\"id\":\"102794\",\"type\":\"Circle\"},{\"attributes\":{\"data\":{\"radius\":{\"__ndarray__\":\"E4N3syqlmz/CeBGjOXyrP9Hxy2zIyJM/\",\"dtype\":\"float64\",\"order\":\"little\",\"shape\":[3]},\"x\":[\"1\",\"2\",\"3\"],\"y\":[\"S4P18_15\",\"S4P18_15\",\"S4P18_15\"]},\"selected\":{\"id\":\"104537\"},\"selection_policy\":{\"id\":\"104536\"}},\"id\":\"102872\",\"type\":\"ColumnDataSource\"},{\"attributes\":{\"source\":{\"id\":\"102862\"}},\"id\":\"102866\",\"type\":\"CDSView\"},{\"attributes\":{\"data_source\":{\"id\":\"102907\"},\"glyph\":{\"id\":\"102908\"},\"hover_glyph\":null,\"muted_glyph\":null,\"nonselection_glyph\":{\"id\":\"102909\"},\"selection_glyph\":null,\"view\":{\"id\":\"102911\"}},\"id\":\"102910\",\"type\":\"GlyphRenderer\"},{\"attributes\":{},\"id\":\"104555\",\"type\":\"Selection\"},{\"attributes\":{\"data_source\":{\"id\":\"102817\"},\"glyph\":{\"id\":\"102818\"},\"hover_glyph\":null,\"muted_glyph\":null,\"nonselection_glyph\":{\"id\":\"102819\"},\"selection_glyph\":null,\"view\":{\"id\":\"102821\"}},\"id\":\"102820\",\"type\":\"GlyphRenderer\"},{\"attributes\":{\"fill_color\":{\"value\":\"yellow\"},\"line_color\":{\"value\":\"yellow\"},\"radius\":{\"field\":\"radius\",\"units\":\"data\"},\"x\":{\"field\":\"x\"},\"y\":{\"field\":\"y\"}},\"id\":\"102883\",\"type\":\"Circle\"},{\"attributes\":{\"data\":{\"text\":[\"70.0%\",\"19.0%\",\"10.0%\"],\"x\":[\"1\",\"2\",\"3\"],\"y\":[\"S4P18_7\",\"S4P18_7\",\"S4P18_7\"]},\"selected\":{\"id\":\"104507\"},\"selection_policy\":{\"id\":\"104506\"}},\"id\":\"102797\",\"type\":\"ColumnDataSource\"},{\"attributes\":{\"fill_alpha\":{\"value\":0.1},\"fill_color\":{\"value\":\"yellow\"},\"line_alpha\":{\"value\":0.1},\"line_color\":{\"value\":\"yellow\"},\"radius\":{\"field\":\"radius\",\"units\":\"data\"},\"x\":{\"field\":\"x\"},\"y\":{\"field\":\"y\"}},\"id\":\"102894\",\"type\":\"Circle\"},{\"attributes\":{},\"id\":\"104548\",\"type\":\"UnionRenderers\"},{\"attributes\":{\"data\":{\"radius\":{\"__ndarray__\":\"tMywaqCLpD8uvfYOqlOaP+gHB8G9faE/\",\"dtype\":\"float64\",\"order\":\"little\",\"shape\":[3]},\"x\":[\"1\",\"2\",\"3\"],\"y\":[\"S4P18_6\",\"S4P18_6\",\"S4P18_6\"]},\"selected\":{\"id\":\"104501\"},\"selection_policy\":{\"id\":\"104500\"}},\"id\":\"102782\",\"type\":\"ColumnDataSource\"},{\"attributes\":{\"source\":{\"id\":\"102827\"}},\"id\":\"102831\",\"type\":\"CDSView\"},{\"attributes\":{\"data_source\":{\"id\":\"102792\"},\"glyph\":{\"id\":\"102793\"},\"hover_glyph\":null,\"muted_glyph\":null,\"nonselection_glyph\":{\"id\":\"102794\"},\"selection_glyph\":null,\"view\":{\"id\":\"102796\"}},\"id\":\"102795\",\"type\":\"GlyphRenderer\"},{\"attributes\":{\"factors\":[\"S4P18_1\",\"S4P18_2\",\"S4P18_3\",\"S4P18_4\",\"S4P18_5\",\"S4P18_6\",\"S4P18_7\",\"S4P18_8\",\"S4P18_9\",\"S4P18_10\",\"S4P18_11\",\"S4P18_12\",\"S4P18_13\",\"S4P18_14\",\"S4P18_15\",\"S4P18_16\",\"S4P18_17\",\"S4P18_18\",\"S4P18_19\",\"S4P18_20\"]},\"id\":\"102706\",\"type\":\"FactorRange\"},{\"attributes\":{\"data\":{\"radius\":{\"__ndarray__\":\"DMMZ3cu1hz/WvArEKZywP4mRrmfZGpg/\",\"dtype\":\"float64\",\"order\":\"little\",\"shape\":[3]},\"x\":[\"1\",\"2\",\"3\"],\"y\":[\"S4P18_17\",\"S4P18_17\",\"S4P18_17\"]},\"selected\":{\"id\":\"104545\"},\"selection_policy\":{\"id\":\"104544\"}},\"id\":\"102892\",\"type\":\"ColumnDataSource\"},{\"attributes\":{\"text_align\":\"center\",\"text_alpha\":{\"value\":0.1},\"text_baseline\":\"middle\",\"text_color\":{\"value\":\"red\"},\"text_font_size\":{\"value\":\"10px\"},\"x\":{\"field\":\"x\"},\"y\":{\"field\":\"y\"}},\"id\":\"102839\",\"type\":\"Text\"},{\"attributes\":{},\"id\":\"104551\",\"type\":\"Selection\"},{\"attributes\":{\"data_source\":{\"id\":\"102802\"},\"glyph\":{\"id\":\"102803\"},\"hover_glyph\":null,\"muted_glyph\":null,\"nonselection_glyph\":{\"id\":\"102804\"},\"selection_glyph\":null,\"view\":{\"id\":\"102806\"}},\"id\":\"102805\",\"type\":\"GlyphRenderer\"},{\"attributes\":{},\"id\":\"102710\",\"type\":\"CategoricalScale\"},{\"attributes\":{\"data\":{\"radius\":{\"__ndarray__\":\"6D/c5KTooD93sA7Z4MenP6iFkOpaBZU/\",\"dtype\":\"float64\",\"order\":\"little\",\"shape\":[3]},\"x\":[\"1\",\"2\",\"3\"],\"y\":[\"S4P18_18\",\"S4P18_18\",\"S4P18_18\"]},\"selected\":{\"id\":\"104549\"},\"selection_policy\":{\"id\":\"104548\"}},\"id\":\"102902\",\"type\":\"ColumnDataSource\"},{\"attributes\":{\"data\":{\"radius\":{\"__ndarray__\":\"PXpE4YjusT/7QFOhNoSTP+p4AoAYUIY/\",\"dtype\":\"float64\",\"order\":\"little\",\"shape\":[3]},\"x\":[\"1\",\"2\",\"3\"],\"y\":[\"S4P18_7\",\"S4P18_7\",\"S4P18_7\"]},\"selected\":{\"id\":\"104505\"},\"selection_policy\":{\"id\":\"104504\"}},\"id\":\"102792\",\"type\":\"ColumnDataSource\"},{\"attributes\":{\"axis\":{\"id\":\"102712\"},\"ticker\":null},\"id\":\"102714\",\"type\":\"Grid\"},{\"attributes\":{\"axis\":{\"id\":\"102715\"},\"dimension\":1,\"ticker\":null},\"id\":\"102717\",\"type\":\"Grid\"},{\"attributes\":{\"active_drag\":\"auto\",\"active_inspect\":\"auto\",\"active_multi\":null,\"active_scroll\":\"auto\",\"active_tap\":\"auto\",\"tools\":[{\"id\":\"102718\"},{\"id\":\"102719\"},{\"id\":\"102720\"},{\"id\":\"102721\"},{\"id\":\"102722\"},{\"id\":\"102723\"}]},\"id\":\"102725\",\"type\":\"Toolbar\"},{\"attributes\":{\"data\":{\"radius\":{\"__ndarray__\":\"szkTxbcIpj+FlOQ3oGSoP+iT7dhsF4M/\",\"dtype\":\"float64\",\"order\":\"little\",\"shape\":[3]},\"x\":[\"1\",\"2\",\"3\"],\"y\":[\"S4P18_2\",\"S4P18_2\",\"S4P18_2\"]},\"selected\":{\"id\":\"104485\"},\"selection_policy\":{\"id\":\"104484\"}},\"id\":\"102742\",\"type\":\"ColumnDataSource\"},{\"attributes\":{\"data_source\":{\"id\":\"102742\"},\"glyph\":{\"id\":\"102743\"},\"hover_glyph\":null,\"muted_glyph\":null,\"nonselection_glyph\":{\"id\":\"102744\"},\"selection_glyph\":null,\"view\":{\"id\":\"102746\"}},\"id\":\"102745\",\"type\":\"GlyphRenderer\"},{\"attributes\":{\"fill_color\":{\"value\":\"yellow\"},\"line_color\":{\"value\":\"yellow\"},\"radius\":{\"field\":\"radius\",\"units\":\"data\"},\"x\":{\"field\":\"x\"},\"y\":{\"field\":\"y\"}},\"id\":\"102783\",\"type\":\"Circle\"},{\"attributes\":{\"source\":{\"id\":\"102807\"}},\"id\":\"102811\",\"type\":\"CDSView\"},{\"attributes\":{\"data_source\":{\"id\":\"102787\"},\"glyph\":{\"id\":\"102788\"},\"hover_glyph\":null,\"muted_glyph\":null,\"nonselection_glyph\":{\"id\":\"102789\"},\"selection_glyph\":null,\"view\":{\"id\":\"102791\"}},\"id\":\"102790\",\"type\":\"GlyphRenderer\"},{\"attributes\":{\"data_source\":{\"id\":\"102832\"},\"glyph\":{\"id\":\"102833\"},\"hover_glyph\":null,\"muted_glyph\":null,\"nonselection_glyph\":{\"id\":\"102834\"},\"selection_glyph\":null,\"view\":{\"id\":\"102836\"}},\"id\":\"102835\",\"type\":\"GlyphRenderer\"},{\"attributes\":{\"source\":{\"id\":\"102812\"}},\"id\":\"102816\",\"type\":\"CDSView\"},{\"attributes\":{\"text_align\":\"center\",\"text_alpha\":{\"value\":0.1},\"text_baseline\":\"middle\",\"text_color\":{\"value\":\"red\"},\"text_font_size\":{\"value\":\"10px\"},\"x\":{\"field\":\"x\"},\"y\":{\"field\":\"y\"}},\"id\":\"102819\",\"type\":\"Text\"},{\"attributes\":{\"data_source\":{\"id\":\"102842\"},\"glyph\":{\"id\":\"102843\"},\"hover_glyph\":null,\"muted_glyph\":null,\"nonselection_glyph\":{\"id\":\"102844\"},\"selection_glyph\":null,\"view\":{\"id\":\"102846\"}},\"id\":\"102845\",\"type\":\"GlyphRenderer\"},{\"attributes\":{\"source\":{\"id\":\"102887\"}},\"id\":\"102891\",\"type\":\"CDSView\"},{\"attributes\":{\"fill_alpha\":{\"value\":0.1},\"fill_color\":{\"value\":\"yellow\"},\"line_alpha\":{\"value\":0.1},\"line_color\":{\"value\":\"yellow\"},\"radius\":{\"field\":\"radius\",\"units\":\"data\"},\"x\":{\"field\":\"x\"},\"y\":{\"field\":\"y\"}},\"id\":\"102804\",\"type\":\"Circle\"},{\"attributes\":{\"text_align\":\"center\",\"text_alpha\":{\"value\":0.1},\"text_baseline\":\"middle\",\"text_color\":{\"value\":\"red\"},\"text_font_size\":{\"value\":\"10px\"},\"x\":{\"field\":\"x\"},\"y\":{\"field\":\"y\"}},\"id\":\"102869\",\"type\":\"Text\"},{\"attributes\":{\"text_align\":\"center\",\"text_baseline\":\"middle\",\"text_color\":{\"value\":\"red\"},\"text_font_size\":{\"value\":\"10px\"},\"x\":{\"field\":\"x\"},\"y\":{\"field\":\"y\"}},\"id\":\"102898\",\"type\":\"Text\"},{\"attributes\":{\"source\":{\"id\":\"102837\"}},\"id\":\"102841\",\"type\":\"CDSView\"},{\"attributes\":{},\"id\":\"102719\",\"type\":\"WheelZoomTool\"},{\"attributes\":{\"text_align\":\"center\",\"text_baseline\":\"middle\",\"text_color\":{\"value\":\"red\"},\"text_font_size\":{\"value\":\"10px\"},\"x\":{\"field\":\"x\"},\"y\":{\"field\":\"y\"}},\"id\":\"102888\",\"type\":\"Text\"},{\"attributes\":{\"text_align\":\"center\",\"text_alpha\":{\"value\":0.1},\"text_baseline\":\"middle\",\"text_color\":{\"value\":\"red\"},\"text_font_size\":{\"value\":\"10px\"},\"x\":{\"field\":\"x\"},\"y\":{\"field\":\"y\"}},\"id\":\"102749\",\"type\":\"Text\"},{\"attributes\":{\"text_align\":\"center\",\"text_baseline\":\"middle\",\"text_color\":{\"value\":\"red\"},\"text_font_size\":{\"value\":\"10px\"},\"x\":{\"field\":\"x\"},\"y\":{\"field\":\"y\"}},\"id\":\"102838\",\"type\":\"Text\"},{\"attributes\":{\"data\":{\"text\":[\"26.0%\",\"53.0%\",\"19.0%\"],\"x\":[\"1\",\"2\",\"3\"],\"y\":[\"S4P18_15\",\"S4P18_15\",\"S4P18_15\"]},\"selected\":{\"id\":\"104539\"},\"selection_policy\":{\"id\":\"104538\"}},\"id\":\"102877\",\"type\":\"ColumnDataSource\"},{\"attributes\":{\"data\":{\"text\":[\"40.0%\",\"11.0%\",\"48.0%\"],\"x\":[\"1\",\"2\",\"3\"],\"y\":[\"S4P18_14\",\"S4P18_14\",\"S4P18_14\"]},\"selected\":{\"id\":\"104535\"},\"selection_policy\":{\"id\":\"104534\"}},\"id\":\"102867\",\"type\":\"ColumnDataSource\"},{\"attributes\":{\"fill_alpha\":{\"value\":0.1},\"fill_color\":{\"value\":\"yellow\"},\"line_alpha\":{\"value\":0.1},\"line_color\":{\"value\":\"yellow\"},\"radius\":{\"field\":\"radius\",\"units\":\"data\"},\"x\":{\"field\":\"x\"},\"y\":{\"field\":\"y\"}},\"id\":\"102824\",\"type\":\"Circle\"},{\"attributes\":{\"data_source\":{\"id\":\"102847\"},\"glyph\":{\"id\":\"102848\"},\"hover_glyph\":null,\"muted_glyph\":null,\"nonselection_glyph\":{\"id\":\"102849\"},\"selection_glyph\":null,\"view\":{\"id\":\"102851\"}},\"id\":\"102850\",\"type\":\"GlyphRenderer\"},{\"attributes\":{\"text_align\":\"center\",\"text_alpha\":{\"value\":0.1},\"text_baseline\":\"middle\",\"text_color\":{\"value\":\"red\"},\"text_font_size\":{\"value\":\"10px\"},\"x\":{\"field\":\"x\"},\"y\":{\"field\":\"y\"}},\"id\":\"102829\",\"type\":\"Text\"},{\"attributes\":{},\"id\":\"102723\",\"type\":\"HelpTool\"},{\"attributes\":{\"source\":{\"id\":\"102842\"}},\"id\":\"102846\",\"type\":\"CDSView\"},{\"attributes\":{\"data\":{\"radius\":{\"__ndarray__\":\"g3OwQ/5Yrj+gHD6ie7SWP75ixzzu/5I/\",\"dtype\":\"float64\",\"order\":\"little\",\"shape\":[3]},\"x\":[\"1\",\"2\",\"3\"],\"y\":[\"S4P18_8\",\"S4P18_8\",\"S4P18_8\"]},\"selected\":{\"id\":\"104509\"},\"selection_policy\":{\"id\":\"104508\"}},\"id\":\"102802\",\"type\":\"ColumnDataSource\"},{\"attributes\":{\"source\":{\"id\":\"102892\"}},\"id\":\"102896\",\"type\":\"CDSView\"},{\"attributes\":{\"source\":{\"id\":\"102822\"}},\"id\":\"102826\",\"type\":\"CDSView\"},{\"attributes\":{\"text_align\":\"center\",\"text_alpha\":{\"value\":0.1},\"text_baseline\":\"middle\",\"text_color\":{\"value\":\"red\"},\"text_font_size\":{\"value\":\"10px\"},\"x\":{\"field\":\"x\"},\"y\":{\"field\":\"y\"}},\"id\":\"102899\",\"type\":\"Text\"},{\"attributes\":{\"text_align\":\"center\",\"text_alpha\":{\"value\":0.1},\"text_baseline\":\"middle\",\"text_color\":{\"value\":\"red\"},\"text_font_size\":{\"value\":\"10px\"},\"x\":{\"field\":\"x\"},\"y\":{\"field\":\"y\"}},\"id\":\"102809\",\"type\":\"Text\"},{\"attributes\":{\"text_align\":\"center\",\"text_baseline\":\"middle\",\"text_color\":{\"value\":\"red\"},\"text_font_size\":{\"value\":\"10px\"},\"x\":{\"field\":\"x\"},\"y\":{\"field\":\"y\"}},\"id\":\"102828\",\"type\":\"Text\"},{\"attributes\":{\"fill_color\":{\"value\":\"yellow\"},\"line_color\":{\"value\":\"yellow\"},\"radius\":{\"field\":\"radius\",\"units\":\"data\"},\"x\":{\"field\":\"x\"},\"y\":{\"field\":\"y\"}},\"id\":\"102853\",\"type\":\"Circle\"},{\"attributes\":{},\"id\":\"102713\",\"type\":\"CategoricalTicker\"},{\"attributes\":{\"text_align\":\"center\",\"text_baseline\":\"middle\",\"text_color\":{\"value\":\"red\"},\"text_font_size\":{\"value\":\"10px\"},\"x\":{\"field\":\"x\"},\"y\":{\"field\":\"y\"}},\"id\":\"102868\",\"type\":\"Text\"},{\"attributes\":{\"data\":{\"radius\":{\"__ndarray__\":\"nfJ9b9rvoT/4DUKHSAWiPzxl5nggfJ4/\",\"dtype\":\"float64\",\"order\":\"little\",\"shape\":[3]},\"x\":[\"1\",\"2\",\"3\"],\"y\":[\"S4P18_16\",\"S4P18_16\",\"S4P18_16\"]},\"selected\":{\"id\":\"104541\"},\"selection_policy\":{\"id\":\"104540\"}},\"id\":\"102882\",\"type\":\"ColumnDataSource\"},{\"attributes\":{\"data\":{\"text\":[\"43.0%\",\"47.0%\",\"9.0%\"],\"x\":[\"1\",\"2\",\"3\"],\"y\":[\"S4P18_2\",\"S4P18_2\",\"S4P18_2\"]},\"selected\":{\"id\":\"104487\"},\"selection_policy\":{\"id\":\"104486\"}},\"id\":\"102747\",\"type\":\"ColumnDataSource\"},{\"attributes\":{\"source\":{\"id\":\"102897\"}},\"id\":\"102901\",\"type\":\"CDSView\"},{\"attributes\":{},\"id\":\"104556\",\"type\":\"UnionRenderers\"},{\"attributes\":{\"source\":{\"id\":\"102747\"}},\"id\":\"102751\",\"type\":\"CDSView\"},{\"attributes\":{\"data_source\":{\"id\":\"102862\"},\"glyph\":{\"id\":\"102863\"},\"hover_glyph\":null,\"muted_glyph\":null,\"nonselection_glyph\":{\"id\":\"102864\"},\"selection_glyph\":null,\"view\":{\"id\":\"102866\"}},\"id\":\"102865\",\"type\":\"GlyphRenderer\"},{\"attributes\":{\"text_align\":\"center\",\"text_baseline\":\"middle\",\"text_color\":{\"value\":\"red\"},\"text_font_size\":{\"value\":\"10px\"},\"x\":{\"field\":\"x\"},\"y\":{\"field\":\"y\"}},\"id\":\"102808\",\"type\":\"Text\"},{\"attributes\":{\"text_align\":\"center\",\"text_alpha\":{\"value\":0.1},\"text_baseline\":\"middle\",\"text_color\":{\"value\":\"red\"},\"text_font_size\":{\"value\":\"10px\"},\"x\":{\"field\":\"x\"},\"y\":{\"field\":\"y\"}},\"id\":\"102879\",\"type\":\"Text\"},{\"attributes\":{},\"id\":\"104553\",\"type\":\"Selection\"},{\"attributes\":{\"data_source\":{\"id\":\"102812\"},\"glyph\":{\"id\":\"102813\"},\"hover_glyph\":null,\"muted_glyph\":null,\"nonselection_glyph\":{\"id\":\"102814\"},\"selection_glyph\":null,\"view\":{\"id\":\"102816\"}},\"id\":\"102815\",\"type\":\"GlyphRenderer\"},{\"attributes\":{\"fill_alpha\":{\"value\":0.1},\"fill_color\":{\"value\":\"yellow\"},\"line_alpha\":{\"value\":0.1},\"line_color\":{\"value\":\"yellow\"},\"radius\":{\"field\":\"radius\",\"units\":\"data\"},\"x\":{\"field\":\"x\"},\"y\":{\"field\":\"y\"}},\"id\":\"102874\",\"type\":\"Circle\"},{\"attributes\":{\"fill_alpha\":{\"value\":0.1},\"fill_color\":{\"value\":\"yellow\"},\"line_alpha\":{\"value\":0.1},\"line_color\":{\"value\":\"yellow\"},\"radius\":{\"field\":\"radius\",\"units\":\"data\"},\"x\":{\"field\":\"x\"},\"y\":{\"field\":\"y\"}},\"id\":\"102814\",\"type\":\"Circle\"},{\"attributes\":{\"data_source\":{\"id\":\"102882\"},\"glyph\":{\"id\":\"102883\"},\"hover_glyph\":null,\"muted_glyph\":null,\"nonselection_glyph\":{\"id\":\"102884\"},\"selection_glyph\":null,\"view\":{\"id\":\"102886\"}},\"id\":\"102885\",\"type\":\"GlyphRenderer\"},{\"attributes\":{\"data\":{\"text\":[\"29.0%\",\"57.0%\",\"12.0%\"],\"x\":[\"1\",\"2\",\"3\"],\"y\":[\"S4P18_12\",\"S4P18_12\",\"S4P18_12\"]},\"selected\":{\"id\":\"104527\"},\"selection_policy\":{\"id\":\"104526\"}},\"id\":\"102847\",\"type\":\"ColumnDataSource\"},{\"attributes\":{},\"id\":\"102708\",\"type\":\"CategoricalScale\"},{\"attributes\":{\"fill_alpha\":{\"value\":0.1},\"fill_color\":{\"value\":\"yellow\"},\"line_alpha\":{\"value\":0.1},\"line_color\":{\"value\":\"yellow\"},\"radius\":{\"field\":\"radius\",\"units\":\"data\"},\"x\":{\"field\":\"x\"},\"y\":{\"field\":\"y\"}},\"id\":\"102844\",\"type\":\"Circle\"},{\"attributes\":{\"data\":{\"text\":[\"59.0%\",\"22.0%\",\"18.0%\"],\"x\":[\"1\",\"2\",\"3\"],\"y\":[\"S4P18_8\",\"S4P18_8\",\"S4P18_8\"]},\"selected\":{\"id\":\"104511\"},\"selection_policy\":{\"id\":\"104510\"}},\"id\":\"102807\",\"type\":\"ColumnDataSource\"},{\"attributes\":{\"data_source\":{\"id\":\"102857\"},\"glyph\":{\"id\":\"102858\"},\"hover_glyph\":null,\"muted_glyph\":null,\"nonselection_glyph\":{\"id\":\"102859\"},\"selection_glyph\":null,\"view\":{\"id\":\"102861\"}},\"id\":\"102860\",\"type\":\"GlyphRenderer\"},{\"attributes\":{\"source\":{\"id\":\"102832\"}},\"id\":\"102836\",\"type\":\"CDSView\"},{\"attributes\":{\"source\":{\"id\":\"102777\"}},\"id\":\"102781\",\"type\":\"CDSView\"},{\"attributes\":{\"data_source\":{\"id\":\"102837\"},\"glyph\":{\"id\":\"102838\"},\"hover_glyph\":null,\"muted_glyph\":null,\"nonselection_glyph\":{\"id\":\"102839\"},\"selection_glyph\":null,\"view\":{\"id\":\"102841\"}},\"id\":\"102840\",\"type\":\"GlyphRenderer\"},{\"attributes\":{\"bottom_units\":\"screen\",\"fill_alpha\":0.5,\"fill_color\":\"lightgrey\",\"left_units\":\"screen\",\"level\":\"overlay\",\"line_alpha\":1.0,\"line_color\":\"black\",\"line_dash\":[4,4],\"line_width\":2,\"right_units\":\"screen\",\"top_units\":\"screen\"},\"id\":\"102724\",\"type\":\"BoxAnnotation\"},{\"attributes\":{\"fill_color\":{\"value\":\"yellow\"},\"line_color\":{\"value\":\"yellow\"},\"radius\":{\"field\":\"radius\",\"units\":\"data\"},\"x\":{\"field\":\"x\"},\"y\":{\"field\":\"y\"}},\"id\":\"102873\",\"type\":\"Circle\"},{\"attributes\":{\"data_source\":{\"id\":\"102877\"},\"glyph\":{\"id\":\"102878\"},\"hover_glyph\":null,\"muted_glyph\":null,\"nonselection_glyph\":{\"id\":\"102879\"},\"selection_glyph\":null,\"view\":{\"id\":\"102881\"}},\"id\":\"102880\",\"type\":\"GlyphRenderer\"},{\"attributes\":{\"data\":{\"text\":[\"96.0%\",\"2.0%\",\"1.0%\"],\"x\":[\"1\",\"2\",\"3\"],\"y\":[\"S4P18_11\",\"S4P18_11\",\"S4P18_11\"]},\"selected\":{\"id\":\"104523\"},\"selection_policy\":{\"id\":\"104522\"}},\"id\":\"102837\",\"type\":\"ColumnDataSource\"},{\"attributes\":{\"source\":{\"id\":\"102847\"}},\"id\":\"102851\",\"type\":\"CDSView\"},{\"attributes\":{\"data_source\":{\"id\":\"102902\"},\"glyph\":{\"id\":\"102903\"},\"hover_glyph\":null,\"muted_glyph\":null,\"nonselection_glyph\":{\"id\":\"102904\"},\"selection_glyph\":null,\"view\":{\"id\":\"102906\"}},\"id\":\"102905\",\"type\":\"GlyphRenderer\"},{\"attributes\":{\"data\":{\"radius\":{\"__ndarray__\":\"e7Pm4l6zuD/w98XNxgxhPwaYLREgdVc/\",\"dtype\":\"float64\",\"order\":\"little\",\"shape\":[3]},\"x\":[\"1\",\"2\",\"3\"],\"y\":[\"S4P18_11\",\"S4P18_11\",\"S4P18_11\"]},\"selected\":{\"id\":\"104521\"},\"selection_policy\":{\"id\":\"104520\"}},\"id\":\"102832\",\"type\":\"ColumnDataSource\"},{\"attributes\":{\"text_align\":\"center\",\"text_baseline\":\"middle\",\"text_color\":{\"value\":\"red\"},\"text_font_size\":{\"value\":\"10px\"},\"x\":{\"field\":\"x\"},\"y\":{\"field\":\"y\"}},\"id\":\"102908\",\"type\":\"Text\"},{\"attributes\":{\"data_source\":{\"id\":\"102827\"},\"glyph\":{\"id\":\"102828\"},\"hover_glyph\":null,\"muted_glyph\":null,\"nonselection_glyph\":{\"id\":\"102829\"},\"selection_glyph\":null,\"view\":{\"id\":\"102831\"}},\"id\":\"102830\",\"type\":\"GlyphRenderer\"},{\"attributes\":{},\"id\":\"102721\",\"type\":\"SaveTool\"},{\"attributes\":{},\"id\":\"104550\",\"type\":\"UnionRenderers\"},{\"attributes\":{},\"id\":\"104554\",\"type\":\"UnionRenderers\"},{\"attributes\":{},\"id\":\"104559\",\"type\":\"Selection\"},{\"attributes\":{\"text_align\":\"center\",\"text_baseline\":\"middle\",\"text_color\":{\"value\":\"red\"},\"text_font_size\":{\"value\":\"10px\"},\"x\":{\"field\":\"x\"},\"y\":{\"field\":\"y\"}},\"id\":\"102858\",\"type\":\"Text\"},{\"attributes\":{},\"id\":\"102722\",\"type\":\"ResetTool\"},{\"attributes\":{\"text_align\":\"center\",\"text_alpha\":{\"value\":0.1},\"text_baseline\":\"middle\",\"text_color\":{\"value\":\"red\"},\"text_font_size\":{\"value\":\"10px\"},\"x\":{\"field\":\"x\"},\"y\":{\"field\":\"y\"}},\"id\":\"102909\",\"type\":\"Text\"},{\"attributes\":{\"fill_alpha\":{\"value\":0.1},\"fill_color\":{\"value\":\"yellow\"},\"line_alpha\":{\"value\":0.1},\"line_color\":{\"value\":\"yellow\"},\"radius\":{\"field\":\"radius\",\"units\":\"data\"},\"x\":{\"field\":\"x\"},\"y\":{\"field\":\"y\"}},\"id\":\"102744\",\"type\":\"Circle\"},{\"attributes\":{\"fill_color\":{\"value\":\"yellow\"},\"line_color\":{\"value\":\"yellow\"},\"radius\":{\"field\":\"radius\",\"units\":\"data\"},\"x\":{\"field\":\"x\"},\"y\":{\"field\":\"y\"}},\"id\":\"102763\",\"type\":\"Circle\"},{\"attributes\":{\"data_source\":{\"id\":\"102762\"},\"glyph\":{\"id\":\"102763\"},\"hover_glyph\":null,\"muted_glyph\":null,\"nonselection_glyph\":{\"id\":\"102764\"},\"selection_glyph\":null,\"view\":{\"id\":\"102766\"}},\"id\":\"102765\",\"type\":\"GlyphRenderer\"},{\"attributes\":{\"data\":{\"radius\":{\"__ndarray__\":\"aPOFspfmrT/9g7a3g5+cPzP3R5Nm84s/\",\"dtype\":\"float64\",\"order\":\"little\",\"shape\":[3]},\"x\":[\"1\",\"2\",\"3\"],\"y\":[\"S4P18_10\",\"S4P18_10\",\"S4P18_10\"]},\"selected\":{\"id\":\"104517\"},\"selection_policy\":{\"id\":\"104516\"}},\"id\":\"102822\",\"type\":\"ColumnDataSource\"},{\"attributes\":{\"fill_alpha\":{\"value\":0.1},\"fill_color\":{\"value\":\"yellow\"},\"line_alpha\":{\"value\":0.1},\"line_color\":{\"value\":\"yellow\"},\"radius\":{\"field\":\"radius\",\"units\":\"data\"},\"x\":{\"field\":\"x\"},\"y\":{\"field\":\"y\"}},\"id\":\"102884\",\"type\":\"Circle\"},{\"attributes\":{\"fill_color\":{\"value\":\"yellow\"},\"line_color\":{\"value\":\"yellow\"},\"radius\":{\"field\":\"radius\",\"units\":\"data\"},\"x\":{\"field\":\"x\"},\"y\":{\"field\":\"y\"}},\"id\":\"102743\",\"type\":\"Circle\"},{\"attributes\":{\"source\":{\"id\":\"102902\"}},\"id\":\"102906\",\"type\":\"CDSView\"},{\"attributes\":{\"fill_color\":{\"value\":\"yellow\"},\"line_color\":{\"value\":\"yellow\"},\"radius\":{\"field\":\"radius\",\"units\":\"data\"},\"x\":{\"field\":\"x\"},\"y\":{\"field\":\"y\"}},\"id\":\"102903\",\"type\":\"Circle\"},{\"attributes\":{},\"id\":\"104552\",\"type\":\"UnionRenderers\"},{\"attributes\":{},\"id\":\"104478\",\"type\":\"CategoricalTickFormatter\"},{\"attributes\":{\"source\":{\"id\":\"102867\"}},\"id\":\"102871\",\"type\":\"CDSView\"},{\"attributes\":{\"source\":{\"id\":\"102877\"}},\"id\":\"102881\",\"type\":\"CDSView\"},{\"attributes\":{\"text_align\":\"center\",\"text_baseline\":\"middle\",\"text_color\":{\"value\":\"red\"},\"text_font_size\":{\"value\":\"10px\"},\"x\":{\"field\":\"x\"},\"y\":{\"field\":\"y\"}},\"id\":\"102748\",\"type\":\"Text\"},{\"attributes\":{\"data\":{\"radius\":{\"__ndarray__\":\"fAIj/4BDlD+mz1yfqMCnP0/iRBTKUKE/\",\"dtype\":\"float64\",\"order\":\"little\",\"shape\":[3]},\"x\":[\"1\",\"2\",\"3\"],\"y\":[\"S4P18_9\",\"S4P18_9\",\"S4P18_9\"]},\"selected\":{\"id\":\"104513\"},\"selection_policy\":{\"id\":\"104512\"}},\"id\":\"102812\",\"type\":\"ColumnDataSource\"},{\"attributes\":{\"fill_color\":{\"value\":\"yellow\"},\"line_color\":{\"value\":\"yellow\"},\"radius\":{\"field\":\"radius\",\"units\":\"data\"},\"x\":{\"field\":\"x\"},\"y\":{\"field\":\"y\"}},\"id\":\"102893\",\"type\":\"Circle\"},{\"attributes\":{\"data\":{\"text\":[\"33.0%\",\"46.0%\",\"20.0%\"],\"x\":[\"1\",\"2\",\"3\"],\"y\":[\"S4P18_18\",\"S4P18_18\",\"S4P18_18\"]},\"selected\":{\"id\":\"104551\"},\"selection_policy\":{\"id\":\"104550\"}},\"id\":\"102907\",\"type\":\"ColumnDataSource\"},{\"attributes\":{\"formatter\":{\"id\":\"104478\"},\"ticker\":{\"id\":\"102713\"}},\"id\":\"102712\",\"type\":\"CategoricalAxis\"},{\"attributes\":{\"fill_alpha\":{\"value\":0.1},\"fill_color\":{\"value\":\"yellow\"},\"line_alpha\":{\"value\":0.1},\"line_color\":{\"value\":\"yellow\"},\"radius\":{\"field\":\"radius\",\"units\":\"data\"},\"x\":{\"field\":\"x\"},\"y\":{\"field\":\"y\"}},\"id\":\"102864\",\"type\":\"Circle\"},{\"attributes\":{},\"id\":\"102716\",\"type\":\"CategoricalTicker\"},{\"attributes\":{\"source\":{\"id\":\"102852\"}},\"id\":\"102856\",\"type\":\"CDSView\"},{\"attributes\":{\"overlay\":{\"id\":\"102724\"}},\"id\":\"102720\",\"type\":\"BoxZoomTool\"},{\"attributes\":{\"data_source\":{\"id\":\"102897\"},\"glyph\":{\"id\":\"102898\"},\"hover_glyph\":null,\"muted_glyph\":null,\"nonselection_glyph\":{\"id\":\"102899\"},\"selection_glyph\":null,\"view\":{\"id\":\"102901\"}},\"id\":\"102900\",\"type\":\"GlyphRenderer\"},{\"attributes\":{\"data\":{\"text\":[\"19.0%\",\"46.0%\",\"33.0%\"],\"x\":[\"1\",\"2\",\"3\"],\"y\":[\"S4P18_9\",\"S4P18_9\",\"S4P18_9\"]},\"selected\":{\"id\":\"104515\"},\"selection_policy\":{\"id\":\"104514\"}},\"id\":\"102817\",\"type\":\"ColumnDataSource\"},{\"attributes\":{\"fill_color\":{\"value\":\"yellow\"},\"line_color\":{\"value\":\"yellow\"},\"radius\":{\"field\":\"radius\",\"units\":\"data\"},\"x\":{\"field\":\"x\"},\"y\":{\"field\":\"y\"}},\"id\":\"102863\",\"type\":\"Circle\"},{\"attributes\":{\"text_align\":\"center\",\"text_alpha\":{\"value\":0.1},\"text_baseline\":\"middle\",\"text_color\":{\"value\":\"red\"},\"text_font_size\":{\"value\":\"10px\"},\"x\":{\"field\":\"x\"},\"y\":{\"field\":\"y\"}},\"id\":\"102859\",\"type\":\"Text\"},{\"attributes\":{\"fill_color\":{\"value\":\"yellow\"},\"line_color\":{\"value\":\"yellow\"},\"radius\":{\"field\":\"radius\",\"units\":\"data\"},\"x\":{\"field\":\"x\"},\"y\":{\"field\":\"y\"}},\"id\":\"102823\",\"type\":\"Circle\"},{\"attributes\":{\"source\":{\"id\":\"102797\"}},\"id\":\"102801\",\"type\":\"CDSView\"},{\"attributes\":{\"text_align\":\"center\",\"text_alpha\":{\"value\":0.1},\"text_baseline\":\"middle\",\"text_color\":{\"value\":\"red\"},\"text_font_size\":{\"value\":\"10px\"},\"x\":{\"field\":\"x\"},\"y\":{\"field\":\"y\"}},\"id\":\"102849\",\"type\":\"Text\"},{\"attributes\":{\"text_align\":\"center\",\"text_baseline\":\"middle\",\"text_color\":{\"value\":\"red\"},\"text_font_size\":{\"value\":\"10px\"},\"x\":{\"field\":\"x\"},\"y\":{\"field\":\"y\"}},\"id\":\"102818\",\"type\":\"Text\"},{\"attributes\":{\"source\":{\"id\":\"102817\"}},\"id\":\"102821\",\"type\":\"CDSView\"},{\"attributes\":{\"source\":{\"id\":\"102857\"}},\"id\":\"102861\",\"type\":\"CDSView\"},{\"attributes\":{\"text\":\"\"},\"id\":\"104475\",\"type\":\"Title\"},{\"attributes\":{\"data\":{\"radius\":{\"__ndarray__\":\"qQO1O5qMpD9/q89PPKSGP6pEiuOJ/ag/\",\"dtype\":\"float64\",\"order\":\"little\",\"shape\":[3]},\"x\":[\"1\",\"2\",\"3\"],\"y\":[\"S4P18_14\",\"S4P18_14\",\"S4P18_14\"]},\"selected\":{\"id\":\"104533\"},\"selection_policy\":{\"id\":\"104532\"}},\"id\":\"102862\",\"type\":\"ColumnDataSource\"},{\"attributes\":{},\"id\":\"104481\",\"type\":\"Selection\"},{\"attributes\":{\"data\":{\"radius\":{\"__ndarray__\":\"zwzGX5manj9w7LfY8IStP28BYarWg4k/\",\"dtype\":\"float64\",\"order\":\"little\",\"shape\":[3]},\"x\":[\"1\",\"2\",\"3\"],\"y\":[\"S4P18_12\",\"S4P18_12\",\"S4P18_12\"]},\"selected\":{\"id\":\"104525\"},\"selection_policy\":{\"id\":\"104524\"}},\"id\":\"102842\",\"type\":\"ColumnDataSource\"},{\"attributes\":{\"fill_color\":{\"value\":\"yellow\"},\"line_color\":{\"value\":\"yellow\"},\"radius\":{\"field\":\"radius\",\"units\":\"data\"},\"x\":{\"field\":\"x\"},\"y\":{\"field\":\"y\"}},\"id\":\"102843\",\"type\":\"Circle\"},{\"attributes\":{\"source\":{\"id\":\"102802\"}},\"id\":\"102806\",\"type\":\"CDSView\"},{\"attributes\":{\"data_source\":{\"id\":\"102852\"},\"glyph\":{\"id\":\"102853\"},\"hover_glyph\":null,\"muted_glyph\":null,\"nonselection_glyph\":{\"id\":\"102854\"},\"selection_glyph\":null,\"view\":{\"id\":\"102856\"}},\"id\":\"102855\",\"type\":\"GlyphRenderer\"},{\"attributes\":{\"factors\":[\"1\",\"2\",\"3\"]},\"id\":\"102704\",\"type\":\"FactorRange\"}],\"root_ids\":[\"102703\"]},\"title\":\"Bokeh Application\",\"version\":\"2.2.1\"}};\n  var render_items = [{\"docid\":\"2c3ae70b-199b-4a6c-9b8a-bc9c0f0cc52b\",\"root_ids\":[\"102703\"],\"roots\":{\"102703\":\"af352d1e-951c-4d9c-b0dc-104a35f1bd5b\"}}];\n  root.Bokeh.embed.embed_items_notebook(docs_json, render_items);\n\n  }\n  if (root.Bokeh !== undefined) {\n    embed_document(root);\n  } else {\n    var attempts = 0;\n    var timer = setInterval(function(root) {\n      if (root.Bokeh !== undefined) {\n        clearInterval(timer);\n        embed_document(root);\n      } else {\n        attempts++;\n        if (attempts > 100) {\n          clearInterval(timer);\n          console.log(\"Bokeh: ERROR: Unable to run BokehJS code because BokehJS library is missing\");\n        }\n      }\n    }, 10, root)\n  }\n})(window);",
      "application/vnd.bokehjs_exec.v0+json": ""
     },
     "metadata": {
      "application/vnd.bokehjs_exec.v0+json": {
       "id": "102703"
      }
     }
    }
   ],
   "source": [
    "bpl.show(p)"
   ]
  },
  {
   "cell_type": "code",
   "execution_count": null,
   "metadata": {},
   "outputs": [],
   "source": []
  },
  {
   "cell_type": "code",
   "execution_count": null,
   "metadata": {},
   "outputs": [],
   "source": []
  }
 ]
}